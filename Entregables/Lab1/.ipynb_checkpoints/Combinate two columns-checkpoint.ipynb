{
 "cells": [
  {
   "cell_type": "code",
   "execution_count": 18,
   "metadata": {},
   "outputs": [],
   "source": [
    "import pandas as pd"
   ]
  },
  {
   "cell_type": "code",
   "execution_count": 19,
   "metadata": {},
   "outputs": [],
   "source": [
    "columns_df1 = ['Sample','Animal', 'Time', 'Sex']\n",
    "data_df1 = [\n",
    "    ['1', 'A', 'one', 'male'],\n",
    "    ['2', 'A', 'two', 'male'],\n",
    "    ['3', 'B', 'one', 'female'],\n",
    "    ['4', 'C', 'one', 'male'],\n",
    "    ['5', 'D', 'one', 'female']\n",
    "    ]\n",
    "\n",
    "df1 = pd.DataFrame(data_df1, columns=columns_df1)\n",
    "\n",
    "columns_df2 = ['Sample','a', 'b', 'c']\n",
    "data_df2 = [\n",
    "    ['1', '0.2', '0.4', '0.3'],\n",
    "    ['2', '0.5', '0.7', '0.2'],\n",
    "    ['3', '0.4', '0.1', '0.9'],\n",
    "    ['4', '0.4', '0.2', '0.3'],\n",
    "    ['5', '0.6', '0.2', '0.4']\n",
    "    ]\n",
    "\n",
    "df2 = pd.DataFrame(data_df2, columns=columns_df2)"
   ]
  },
  {
   "cell_type": "code",
   "execution_count": 20,
   "metadata": {},
   "outputs": [
    {
     "name": "stdout",
     "output_type": "stream",
     "text": [
      "       Animal Time     Sex\n",
      "Sample                    \n",
      "1           A  one    male\n",
      "2           A  two    male\n",
      "3           B  one  female\n",
      "4           C  one    male\n",
      "5           D  one  female\n"
     ]
    }
   ],
   "source": [
    "# your data\n",
    "# ==============================\n",
    "# set index\n",
    "df1 = df1.set_index('Sample')\n",
    "print(df1)\n"
   ]
  },
  {
   "cell_type": "code",
   "execution_count": 21,
   "metadata": {},
   "outputs": [
    {
     "name": "stdout",
     "output_type": "stream",
     "text": [
      "  Sample    a    b    c\n",
      "0      1  0.2  0.4  0.3\n",
      "1      2  0.5  0.7  0.2\n",
      "2      3  0.4  0.1  0.9\n",
      "3      4  0.4  0.2  0.3\n",
      "4      5  0.6  0.2  0.4\n"
     ]
    }
   ],
   "source": [
    "print(df2)\n"
   ]
  },
  {
   "cell_type": "code",
   "execution_count": 22,
   "metadata": {},
   "outputs": [
    {
     "name": "stdout",
     "output_type": "stream",
     "text": [
      "                     Sample         a         b         c     \n",
      "Time                    one  two  one  two  one  two  one  two\n",
      "Sample Animal Sex                                             \n",
      "1      A      male      NaN  NaN  NaN  NaN  NaN  NaN  NaN  NaN\n",
      "2      A      male      NaN  NaN  NaN  NaN  NaN  NaN  NaN  NaN\n",
      "3      B      female    NaN  NaN  NaN  NaN  NaN  NaN  NaN  NaN\n",
      "4      C      male      NaN  NaN  NaN  NaN  NaN  NaN  NaN  NaN\n",
      "5      D      female    NaN  NaN  NaN  NaN  NaN  NaN  NaN  NaN\n"
     ]
    }
   ],
   "source": [
    "# processing\n",
    "# =============================\n",
    "df = df1.join(df2)\n",
    "\n",
    "df_temp = df.set_index(['Animal', 'Sex','Time'], append=True).unstack()\n",
    "\n",
    "print(df_temp)\n"
   ]
  },
  {
   "cell_type": "code",
   "execution_count": null,
   "metadata": {},
   "outputs": [],
   "source": []
  },
  {
   "cell_type": "code",
   "execution_count": 23,
   "metadata": {},
   "outputs": [
    {
     "name": "stdout",
     "output_type": "stream",
     "text": [
      "                     one_Sample two_Sample one_a two_a one_b two_b one_c two_c\n",
      "Sample Animal Sex                                                             \n",
      "1      A      male          NaN        NaN   NaN   NaN   NaN   NaN   NaN   NaN\n",
      "2      A      male          NaN        NaN   NaN   NaN   NaN   NaN   NaN   NaN\n",
      "3      B      female        NaN        NaN   NaN   NaN   NaN   NaN   NaN   NaN\n",
      "4      C      male          NaN        NaN   NaN   NaN   NaN   NaN   NaN   NaN\n",
      "5      D      female        NaN        NaN   NaN   NaN   NaN   NaN   NaN   NaN\n"
     ]
    }
   ],
   "source": [
    "# rename the columns if you wish\n",
    "df_temp.columns = ['{}_{}'.format(x, y) for x, y in zip(df_temp.columns.get_level_values(1), df_temp.columns.get_level_values(0))]\n",
    "\n",
    "print(df_temp)\n",
    " "
   ]
  },
  {
   "cell_type": "code",
   "execution_count": null,
   "metadata": {},
   "outputs": [],
   "source": []
  },
  {
   "cell_type": "code",
   "execution_count": 24,
   "metadata": {},
   "outputs": [
    {
     "data": {
      "text/html": [
       "<div>\n",
       "<style scoped>\n",
       "    .dataframe tbody tr th:only-of-type {\n",
       "        vertical-align: middle;\n",
       "    }\n",
       "\n",
       "    .dataframe tbody tr th {\n",
       "        vertical-align: top;\n",
       "    }\n",
       "\n",
       "    .dataframe thead th {\n",
       "        text-align: right;\n",
       "    }\n",
       "</style>\n",
       "<table border=\"1\" class=\"dataframe\">\n",
       "  <thead>\n",
       "    <tr style=\"text-align: right;\">\n",
       "      <th></th>\n",
       "      <th>Sex</th>\n",
       "      <th>one_Sample</th>\n",
       "      <th>one_a</th>\n",
       "      <th>one_b</th>\n",
       "      <th>one_c</th>\n",
       "      <th>two_Sample</th>\n",
       "      <th>two_a</th>\n",
       "      <th>two_b</th>\n",
       "      <th>two_c</th>\n",
       "    </tr>\n",
       "    <tr>\n",
       "      <th>Animal</th>\n",
       "      <th></th>\n",
       "      <th></th>\n",
       "      <th></th>\n",
       "      <th></th>\n",
       "      <th></th>\n",
       "      <th></th>\n",
       "      <th></th>\n",
       "      <th></th>\n",
       "      <th></th>\n",
       "    </tr>\n",
       "  </thead>\n",
       "  <tbody>\n",
       "    <tr>\n",
       "      <th>A</th>\n",
       "      <td>male</td>\n",
       "      <td>NaN</td>\n",
       "      <td>NaN</td>\n",
       "      <td>NaN</td>\n",
       "      <td>NaN</td>\n",
       "      <td>NaN</td>\n",
       "      <td>NaN</td>\n",
       "      <td>NaN</td>\n",
       "      <td>NaN</td>\n",
       "    </tr>\n",
       "    <tr>\n",
       "      <th>B</th>\n",
       "      <td>female</td>\n",
       "      <td>NaN</td>\n",
       "      <td>NaN</td>\n",
       "      <td>NaN</td>\n",
       "      <td>NaN</td>\n",
       "      <td>NaN</td>\n",
       "      <td>NaN</td>\n",
       "      <td>NaN</td>\n",
       "      <td>NaN</td>\n",
       "    </tr>\n",
       "    <tr>\n",
       "      <th>C</th>\n",
       "      <td>male</td>\n",
       "      <td>NaN</td>\n",
       "      <td>NaN</td>\n",
       "      <td>NaN</td>\n",
       "      <td>NaN</td>\n",
       "      <td>NaN</td>\n",
       "      <td>NaN</td>\n",
       "      <td>NaN</td>\n",
       "      <td>NaN</td>\n",
       "    </tr>\n",
       "    <tr>\n",
       "      <th>D</th>\n",
       "      <td>female</td>\n",
       "      <td>NaN</td>\n",
       "      <td>NaN</td>\n",
       "      <td>NaN</td>\n",
       "      <td>NaN</td>\n",
       "      <td>NaN</td>\n",
       "      <td>NaN</td>\n",
       "      <td>NaN</td>\n",
       "      <td>NaN</td>\n",
       "    </tr>\n",
       "  </tbody>\n",
       "</table>\n",
       "</div>"
      ],
      "text/plain": [
       "           Sex  one_Sample  one_a  one_b  one_c  two_Sample  two_a  two_b  \\\n",
       "Animal                                                                      \n",
       "A         male         NaN    NaN    NaN    NaN         NaN    NaN    NaN   \n",
       "B       female         NaN    NaN    NaN    NaN         NaN    NaN    NaN   \n",
       "C         male         NaN    NaN    NaN    NaN         NaN    NaN    NaN   \n",
       "D       female         NaN    NaN    NaN    NaN         NaN    NaN    NaN   \n",
       "\n",
       "        two_c  \n",
       "Animal         \n",
       "A         NaN  \n",
       "B         NaN  \n",
       "C         NaN  \n",
       "D         NaN  "
      ]
     },
     "execution_count": 24,
     "metadata": {},
     "output_type": "execute_result"
    }
   ],
   "source": [
    "\n",
    "result = df_temp.reset_index('Sex').groupby(level='Animal').agg(max).sort_index(axis=1)\n",
    "\n",
    "result\n"
   ]
  },
  {
   "cell_type": "code",
   "execution_count": null,
   "metadata": {},
   "outputs": [],
   "source": []
  },
  {
   "cell_type": "code",
   "execution_count": null,
   "metadata": {},
   "outputs": [],
   "source": []
  },
  {
   "cell_type": "code",
   "execution_count": null,
   "metadata": {},
   "outputs": [],
   "source": []
  }
 ],
 "metadata": {
  "kernelspec": {
   "display_name": "Python 3",
   "language": "python",
   "name": "python3"
  },
  "language_info": {
   "codemirror_mode": {
    "name": "ipython",
    "version": 3
   },
   "file_extension": ".py",
   "mimetype": "text/x-python",
   "name": "python",
   "nbconvert_exporter": "python",
   "pygments_lexer": "ipython3",
   "version": "3.6.3"
  }
 },
 "nbformat": 4,
 "nbformat_minor": 2
}
