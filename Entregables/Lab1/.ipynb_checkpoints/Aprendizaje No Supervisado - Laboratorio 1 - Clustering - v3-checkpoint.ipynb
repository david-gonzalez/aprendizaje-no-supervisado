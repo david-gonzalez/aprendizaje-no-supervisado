{
 "cells": [
  {
   "cell_type": "markdown",
   "metadata": {},
   "source": [
    "<center>\n",
    "<h4>Diplomatura AACSyA 2018 - FaMAF - UNC</h4>\n",
    "<h1>Aprendizaje No Supervisado</h1>\n",
    "<h2>Práctico 1 - Clustering</h2>\n",
    "<hr>\n",
    "Por David Gonzalez <leonardo.david.gonzalez@gmail.com> y Facundo Díaz Cobos <facundo.diaz.cobos@gmail.com>\n",
    "</center>\n",
    "<br/>"
   ]
  },
  {
   "cell_type": "markdown",
   "metadata": {},
   "source": [
    "## Objetivos\n",
    "En este práctico se explorarán diferentes soluciones de clustering, para desarrollar las capacidades de análisis de\n",
    "soluciones de clustering. Es preferible que los conjuntos de datos con los que trabajar sean propios, ya que de esta\n",
    "forma podrán aplicar su conocimiento del dominio en la interpretación de las diferentes soluciones. Alternativa-\n",
    "mente, pueden usar conjuntos de datos de los ejemplos de la materia.\n",
    "En los mismos, hacer una breve discusión del problema y explicar cómo puede ser útil usar técnicas de clustering."
   ]
  },
  {
   "cell_type": "markdown",
   "metadata": {},
   "source": [
    "# Consignas\n",
    "Para cumplir los objetivos, realizar las siguientes actividades:\n",
    "\n",
    "1 - Explorar soluciones con diferentes parámetros y compararlas. Por ejemplo, variar el número de clusters, las\n",
    "métricas de distancia, el número de iteraciones o el número de veces que se inicializan las semillas. Describir\n",
    "brevemente: número de clusters, población de cada cluster, algunas caracterı́sticas distintivas de cada cluster,\n",
    "algunos elementos que se puedan encontrar en cada cluster.\n",
    "\n",
    "2 - Incorporar un embedding como preproceso a los datos, aplicar los algoritmos de clustering después de ese\n",
    "preproceso y describir la solución o soluciones resultantes, discutiendo las ventajas que resultan. Se pueden\n",
    "usar:\n",
    "\n",
    "◦ Principal\n",
    "Component Analysis http://scikit-learn.org/stable/modules/generated/sklearn.\n",
    "decomposition.PCA.html\n",
    "\n",
    "◦ para texto, embeddings neuronales Gensim https://pypi.org/project/gensim/\n",
    "\n",
    "◦ para texto, embeddings neuronales Fastext https://pypi.org/project/fasttext/\n",
    "\n",
    "3 - Proponer (y en lo posible, implementar) métricas de evaluación de soluciones de clustering basadas en testigos.\n",
    "Los testigos son pares de objetos que un experto de dominio etiqueta como “deberı́an estar en el mismo cluster”\n",
    "o “deberı́an estar en distintos clusters”.\n",
    "\n",
    "4 - El método k-means de scikit-learn no provee una forma sencilla de obtneer los objetos más cercanos al centroide\n",
    "de un cluster. Proponga alguna forma de obtener una muestra de los elementos de un cluster que sean cercanos\n",
    "al centroide, por ejemplo, usando clasificadores, usando distancia coseno, etc. En lo posible, implementarlos y\n",
    "mostrar esos elementos, discutir la representatividad de los elementos encontrados."
   ]
  },
  {
   "cell_type": "markdown",
   "metadata": {},
   "source": [
    "# <u>RESOLUCIÓN</u>"
   ]
  },
  {
   "cell_type": "markdown",
   "metadata": {},
   "source": [
    "# Importando los datos:\n",
    "Vamos a trabajar un set de datos correspondiente a compras reales de clientes realizadas en el año 2017. Los clientes fueron anonimizados previamente para poder ser utilizados en el ejercicio."
   ]
  },
  {
   "cell_type": "code",
   "execution_count": 1,
   "metadata": {},
   "outputs": [],
   "source": [
    "import seaborn as sns\n",
    "import numpy as np\n",
    "import matplotlib.pyplot as plt\n",
    "import pandas as pd\n",
    "from yellowbrick.cluster.elbow import KElbowVisualizer\n",
    "from sklearn.cluster import KMeans\n",
    "from datetime import datetime\n",
    "\n",
    "import numpy as np\n",
    "np.random.seed(0)\n",
    "\n",
    "# Configuramos el tamaño de los gráficos, en pulgadas\n",
    "from pylab import rcParams\n",
    "rcParams['figure.figsize'] = 18, 10"
   ]
  },
  {
   "cell_type": "code",
   "execution_count": 2,
   "metadata": {},
   "outputs": [
    {
     "name": "stdout",
     "output_type": "stream",
     "text": [
      "* Chequeando dataset de trabajo...\n",
      "- Dataset OK.\n"
     ]
    }
   ],
   "source": [
    "from util import check_dataset\n",
    "check_dataset()"
   ]
  },
  {
   "cell_type": "code",
   "execution_count": 3,
   "metadata": {},
   "outputs": [
    {
     "name": "stdout",
     "output_type": "stream",
     "text": [
      "* Importando dataset...\n",
      " - 1677680 registros importados.\n"
     ]
    }
   ],
   "source": [
    "from util import load_dataset\n",
    "ventas_df = load_dataset()"
   ]
  },
  {
   "cell_type": "markdown",
   "metadata": {},
   "source": [
    "# 1 - Explorar soluciones con diferentes parámetros y compararlas:"
   ]
  },
  {
   "cell_type": "code",
   "execution_count": 4,
   "metadata": {},
   "outputs": [],
   "source": [
    "from IPython.display import display, HTML"
   ]
  },
  {
   "cell_type": "code",
   "execution_count": 5,
   "metadata": {},
   "outputs": [
    {
     "data": {
      "text/html": [
       "<b>* Cantidad de Features: 41</b>"
      ],
      "text/plain": [
       "<IPython.core.display.HTML object>"
      ]
     },
     "metadata": {},
     "output_type": "display_data"
    },
    {
     "data": {
      "text/plain": [
       "Index(['Unnamed: 0', 'CODIGO_CLIENTE', 'RAZON_SOCIAL', 'CUIT', 'CATEGORIA_IVA',\n",
       "       'GRUPO_CANAL', 'CANAL', 'SUBCANAL', 'APERTURA_ADICIONAL', 'CATEGORIA',\n",
       "       'ZONA', 'ZONA_REPARTO', 'CONDICION_VENTA', 'CREDITO_MAXIMO',\n",
       "       'CREDITO_MONEDA', 'LISTA_PRECIOS', 'AGENTE_RETENCION',\n",
       "       'DIAS_TOLERANCIA_COBRO', 'GRUPO', 'SOCIEDAD_JURIDICA', 'ESTADO',\n",
       "       'MOTIVO_ESTADO', 'ESQUEMA_COMERCIAL', 'FACTURA_CODIGO',\n",
       "       'FACTURA_NUM_ID', 'FACTURA_SUCURSAL', 'FACTURA_FECHA',\n",
       "       'FACTURA_MONTO_TOTAL', 'FACTURA_COND_VENTA', 'FACTURA_VENDEDOR',\n",
       "       'CODIGO_ARTICULO', 'AGRUPACION_1', 'AGRUPACION_2', 'AGRUPACION_3',\n",
       "       'AGRUPACION_4', 'AGRUPACION_5', 'AGRUPACION_6', 'CANTIDAD',\n",
       "       'UNIDAD_MEDIDA', 'PRECIO_UNITARIO', 'PRECIO_TOTAL'],\n",
       "      dtype='object')"
      ]
     },
     "metadata": {},
     "output_type": "display_data"
    },
    {
     "data": {
      "text/html": [
       "<div>\n",
       "<style scoped>\n",
       "    .dataframe tbody tr th:only-of-type {\n",
       "        vertical-align: middle;\n",
       "    }\n",
       "\n",
       "    .dataframe tbody tr th {\n",
       "        vertical-align: top;\n",
       "    }\n",
       "\n",
       "    .dataframe thead th {\n",
       "        text-align: right;\n",
       "    }\n",
       "</style>\n",
       "<table border=\"1\" class=\"dataframe\">\n",
       "  <thead>\n",
       "    <tr style=\"text-align: right;\">\n",
       "      <th></th>\n",
       "      <th>Unnamed: 0</th>\n",
       "      <th>CODIGO_CLIENTE</th>\n",
       "      <th>RAZON_SOCIAL</th>\n",
       "      <th>CUIT</th>\n",
       "      <th>CATEGORIA_IVA</th>\n",
       "      <th>GRUPO_CANAL</th>\n",
       "      <th>CANAL</th>\n",
       "      <th>SUBCANAL</th>\n",
       "      <th>APERTURA_ADICIONAL</th>\n",
       "      <th>CATEGORIA</th>\n",
       "      <th>...</th>\n",
       "      <th>AGRUPACION_1</th>\n",
       "      <th>AGRUPACION_2</th>\n",
       "      <th>AGRUPACION_3</th>\n",
       "      <th>AGRUPACION_4</th>\n",
       "      <th>AGRUPACION_5</th>\n",
       "      <th>AGRUPACION_6</th>\n",
       "      <th>CANTIDAD</th>\n",
       "      <th>UNIDAD_MEDIDA</th>\n",
       "      <th>PRECIO_UNITARIO</th>\n",
       "      <th>PRECIO_TOTAL</th>\n",
       "    </tr>\n",
       "  </thead>\n",
       "  <tbody>\n",
       "    <tr>\n",
       "      <th>0</th>\n",
       "      <td>0</td>\n",
       "      <td>c4798d1002b95e5b0f16f09c62c95e06</td>\n",
       "      <td>ec7c2a1bd7b6b3c9d195ed52ae5d7569</td>\n",
       "      <td>6505d3facde2c86923a7339db59a21ec</td>\n",
       "      <td>RM</td>\n",
       "      <td>000</td>\n",
       "      <td>010</td>\n",
       "      <td>010</td>\n",
       "      <td>010</td>\n",
       "      <td>A</td>\n",
       "      <td>...</td>\n",
       "      <td>012</td>\n",
       "      <td>122</td>\n",
       "      <td>253</td>\n",
       "      <td>012</td>\n",
       "      <td>080</td>\n",
       "      <td>001</td>\n",
       "      <td>1.0</td>\n",
       "      <td>UN</td>\n",
       "      <td>21.5519</td>\n",
       "      <td>26.08</td>\n",
       "    </tr>\n",
       "    <tr>\n",
       "      <th>1</th>\n",
       "      <td>1</td>\n",
       "      <td>c4798d1002b95e5b0f16f09c62c95e06</td>\n",
       "      <td>ec7c2a1bd7b6b3c9d195ed52ae5d7569</td>\n",
       "      <td>6505d3facde2c86923a7339db59a21ec</td>\n",
       "      <td>RM</td>\n",
       "      <td>000</td>\n",
       "      <td>010</td>\n",
       "      <td>010</td>\n",
       "      <td>010</td>\n",
       "      <td>A</td>\n",
       "      <td>...</td>\n",
       "      <td>012</td>\n",
       "      <td>425</td>\n",
       "      <td>700</td>\n",
       "      <td>012</td>\n",
       "      <td>080</td>\n",
       "      <td>001</td>\n",
       "      <td>1.0</td>\n",
       "      <td>UN</td>\n",
       "      <td>10.4264</td>\n",
       "      <td>12.62</td>\n",
       "    </tr>\n",
       "    <tr>\n",
       "      <th>2</th>\n",
       "      <td>2</td>\n",
       "      <td>75eed0dd5091ba851cb1082f5c600404</td>\n",
       "      <td>5e09c84900842536972d00dc670c3fbc</td>\n",
       "      <td>c1660dedd01d4e5c55d3e9f5d549536d</td>\n",
       "      <td>RI</td>\n",
       "      <td>100</td>\n",
       "      <td>100</td>\n",
       "      <td>106</td>\n",
       "      <td>106</td>\n",
       "      <td>C</td>\n",
       "      <td>...</td>\n",
       "      <td>003</td>\n",
       "      <td>185</td>\n",
       "      <td>220</td>\n",
       "      <td>003</td>\n",
       "      <td>033</td>\n",
       "      <td>001</td>\n",
       "      <td>6.0</td>\n",
       "      <td>UN</td>\n",
       "      <td>15.0361</td>\n",
       "      <td>109.16</td>\n",
       "    </tr>\n",
       "    <tr>\n",
       "      <th>3</th>\n",
       "      <td>3</td>\n",
       "      <td>75eed0dd5091ba851cb1082f5c600404</td>\n",
       "      <td>5e09c84900842536972d00dc670c3fbc</td>\n",
       "      <td>c1660dedd01d4e5c55d3e9f5d549536d</td>\n",
       "      <td>RI</td>\n",
       "      <td>100</td>\n",
       "      <td>100</td>\n",
       "      <td>106</td>\n",
       "      <td>106</td>\n",
       "      <td>C</td>\n",
       "      <td>...</td>\n",
       "      <td>091</td>\n",
       "      <td>034</td>\n",
       "      <td>101</td>\n",
       "      <td>003</td>\n",
       "      <td>021</td>\n",
       "      <td>001</td>\n",
       "      <td>12.0</td>\n",
       "      <td>UN</td>\n",
       "      <td>8.0380</td>\n",
       "      <td>116.72</td>\n",
       "    </tr>\n",
       "    <tr>\n",
       "      <th>4</th>\n",
       "      <td>4</td>\n",
       "      <td>d7b59972e86f00e016b54288826786ae</td>\n",
       "      <td>24dc84bc7bc604e81717f2356fbd278b</td>\n",
       "      <td>4334910e09a671816fe006c0d9b9beb8</td>\n",
       "      <td>RM</td>\n",
       "      <td>000</td>\n",
       "      <td>010</td>\n",
       "      <td>010</td>\n",
       "      <td>010</td>\n",
       "      <td>A</td>\n",
       "      <td>...</td>\n",
       "      <td>012</td>\n",
       "      <td>302</td>\n",
       "      <td>402</td>\n",
       "      <td>012</td>\n",
       "      <td>126</td>\n",
       "      <td>001</td>\n",
       "      <td>6.0</td>\n",
       "      <td>UN</td>\n",
       "      <td>14.3429</td>\n",
       "      <td>104.13</td>\n",
       "    </tr>\n",
       "  </tbody>\n",
       "</table>\n",
       "<p>5 rows × 41 columns</p>\n",
       "</div>"
      ],
      "text/plain": [
       "   Unnamed: 0                    CODIGO_CLIENTE  \\\n",
       "0           0  c4798d1002b95e5b0f16f09c62c95e06   \n",
       "1           1  c4798d1002b95e5b0f16f09c62c95e06   \n",
       "2           2  75eed0dd5091ba851cb1082f5c600404   \n",
       "3           3  75eed0dd5091ba851cb1082f5c600404   \n",
       "4           4  d7b59972e86f00e016b54288826786ae   \n",
       "\n",
       "                       RAZON_SOCIAL                              CUIT  \\\n",
       "0  ec7c2a1bd7b6b3c9d195ed52ae5d7569  6505d3facde2c86923a7339db59a21ec   \n",
       "1  ec7c2a1bd7b6b3c9d195ed52ae5d7569  6505d3facde2c86923a7339db59a21ec   \n",
       "2  5e09c84900842536972d00dc670c3fbc  c1660dedd01d4e5c55d3e9f5d549536d   \n",
       "3  5e09c84900842536972d00dc670c3fbc  c1660dedd01d4e5c55d3e9f5d549536d   \n",
       "4  24dc84bc7bc604e81717f2356fbd278b  4334910e09a671816fe006c0d9b9beb8   \n",
       "\n",
       "  CATEGORIA_IVA GRUPO_CANAL CANAL SUBCANAL APERTURA_ADICIONAL CATEGORIA  \\\n",
       "0            RM         000   010      010                010       A     \n",
       "1            RM         000   010      010                010       A     \n",
       "2            RI         100   100      106                106       C     \n",
       "3            RI         100   100      106                106       C     \n",
       "4            RM         000   010      010                010       A     \n",
       "\n",
       "      ...      AGRUPACION_1 AGRUPACION_2 AGRUPACION_3  AGRUPACION_4  \\\n",
       "0     ...               012          122          253           012   \n",
       "1     ...               012          425          700           012   \n",
       "2     ...               003          185          220           003   \n",
       "3     ...               091          034          101           003   \n",
       "4     ...               012          302          402           012   \n",
       "\n",
       "  AGRUPACION_5 AGRUPACION_6  CANTIDAD  UNIDAD_MEDIDA PRECIO_UNITARIO  \\\n",
       "0          080          001       1.0          UN            21.5519   \n",
       "1          080          001       1.0          UN            10.4264   \n",
       "2          033          001       6.0          UN            15.0361   \n",
       "3          021          001      12.0          UN             8.0380   \n",
       "4          126          001       6.0          UN            14.3429   \n",
       "\n",
       "  PRECIO_TOTAL  \n",
       "0        26.08  \n",
       "1        12.62  \n",
       "2       109.16  \n",
       "3       116.72  \n",
       "4       104.13  \n",
       "\n",
       "[5 rows x 41 columns]"
      ]
     },
     "metadata": {},
     "output_type": "display_data"
    }
   ],
   "source": [
    "display(HTML('<b>* Cantidad de Features: {0}</b>'.format(len(ventas_df.columns))))\n",
    "display(ventas_df.columns)\n",
    "display(ventas_df.head())"
   ]
  },
  {
   "cell_type": "code",
   "execution_count": null,
   "metadata": {},
   "outputs": [],
   "source": []
  },
  {
   "cell_type": "code",
   "execution_count": 6,
   "metadata": {
    "scrolled": true
   },
   "outputs": [
    {
     "data": {
      "text/html": [
       "<b>* Cantidad de Clientes: 2508</b>"
      ],
      "text/plain": [
       "<IPython.core.display.HTML object>"
      ]
     },
     "metadata": {},
     "output_type": "display_data"
    },
    {
     "data": {
      "text/html": [
       "<b>* Cantidad de Facturas emitidas: 154083</b>"
      ],
      "text/plain": [
       "<IPython.core.display.HTML object>"
      ]
     },
     "metadata": {},
     "output_type": "display_data"
    },
    {
     "data": {
      "text/html": [
       "<b>* Cantidad de Artículos diferentes Vendidos: 1980</b>"
      ],
      "text/plain": [
       "<IPython.core.display.HTML object>"
      ]
     },
     "metadata": {},
     "output_type": "display_data"
    }
   ],
   "source": [
    "display(HTML('<b>* Cantidad de Clientes: {0}</b>'.format(len(ventas_df.CODIGO_CLIENTE.unique()))))\n",
    "display(HTML('<b>* Cantidad de Facturas emitidas: {0}</b>'.format(len(ventas_df.FACTURA_NUM_ID.unique()))))\n",
    "display(HTML('<b>* Cantidad de Artículos diferentes Vendidos: {0}</b>'.format(len(ventas_df.CODIGO_ARTICULO.unique()))))"
   ]
  },
  {
   "cell_type": "code",
   "execution_count": null,
   "metadata": {},
   "outputs": [],
   "source": []
  },
  {
   "cell_type": "markdown",
   "metadata": {},
   "source": [
    "# Clusterizaremos clientes por su comportamiento de compra:"
   ]
  },
  {
   "cell_type": "markdown",
   "metadata": {},
   "source": [
    "CASO PROPUESTO: El experto de dominio necesita saber cuales son los clientes que poseen comportamiento de compra similar en el año 2017.  \n",
    "\n",
    "Configuramos el dataset para contemplar lo solicitado:"
   ]
  },
  {
   "cell_type": "code",
   "execution_count": 7,
   "metadata": {},
   "outputs": [],
   "source": [
    "\n",
    "data_df = ventas_df[['CODIGO_CLIENTE', 'CANAL', 'SUBCANAL', 'FACTURA_NUM_ID','FACTURA_FECHA', 'CODIGO_ARTICULO', 'CANTIDAD', 'PRECIO_TOTAL' ]] \n",
    "data_df.insert( 1,'YEAR', data_df['FACTURA_FECHA'].apply(lambda x: datetime.strptime(x, '%Y-%m-%d 00:00:00').year ))\n",
    "data_df.insert( 2,'MONTH', data_df['FACTURA_FECHA'].apply(lambda x: datetime.strptime(x, '%Y-%m-%d 00:00:00').month  ))\n",
    "data_df.insert( 3,'DAY', data_df['FACTURA_FECHA'].apply(lambda x: datetime.strptime(x, '%Y-%m-%d 00:00:00').day ))\n",
    "data_df = data_df.drop(columns='FACTURA_FECHA')\n",
    "data_df = data_df[data_df['YEAR'] == 2017]\n"
   ]
  },
  {
   "cell_type": "code",
   "execution_count": 8,
   "metadata": {},
   "outputs": [
    {
     "data": {
      "text/html": [
       "<div>\n",
       "<style scoped>\n",
       "    .dataframe tbody tr th:only-of-type {\n",
       "        vertical-align: middle;\n",
       "    }\n",
       "\n",
       "    .dataframe tbody tr th {\n",
       "        vertical-align: top;\n",
       "    }\n",
       "\n",
       "    .dataframe thead th {\n",
       "        text-align: right;\n",
       "    }\n",
       "</style>\n",
       "<table border=\"1\" class=\"dataframe\">\n",
       "  <thead>\n",
       "    <tr style=\"text-align: right;\">\n",
       "      <th></th>\n",
       "      <th>CODIGO_CLIENTE</th>\n",
       "      <th>YEAR</th>\n",
       "      <th>MONTH</th>\n",
       "      <th>DAY</th>\n",
       "      <th>CANAL</th>\n",
       "      <th>SUBCANAL</th>\n",
       "      <th>FACTURA_NUM_ID</th>\n",
       "      <th>CODIGO_ARTICULO</th>\n",
       "      <th>CANTIDAD</th>\n",
       "      <th>PRECIO_TOTAL</th>\n",
       "    </tr>\n",
       "  </thead>\n",
       "  <tbody>\n",
       "    <tr>\n",
       "      <th>0</th>\n",
       "      <td>c4798d1002b95e5b0f16f09c62c95e06</td>\n",
       "      <td>2017</td>\n",
       "      <td>1</td>\n",
       "      <td>2</td>\n",
       "      <td>010</td>\n",
       "      <td>010</td>\n",
       "      <td>297574e436e7466386da63886436195b</td>\n",
       "      <td>000-000-6673</td>\n",
       "      <td>1.0</td>\n",
       "      <td>26.08</td>\n",
       "    </tr>\n",
       "    <tr>\n",
       "      <th>1</th>\n",
       "      <td>c4798d1002b95e5b0f16f09c62c95e06</td>\n",
       "      <td>2017</td>\n",
       "      <td>1</td>\n",
       "      <td>2</td>\n",
       "      <td>010</td>\n",
       "      <td>010</td>\n",
       "      <td>297574e436e7466386da63886436195b</td>\n",
       "      <td>000-000-11000</td>\n",
       "      <td>1.0</td>\n",
       "      <td>12.62</td>\n",
       "    </tr>\n",
       "    <tr>\n",
       "      <th>2</th>\n",
       "      <td>75eed0dd5091ba851cb1082f5c600404</td>\n",
       "      <td>2017</td>\n",
       "      <td>1</td>\n",
       "      <td>2</td>\n",
       "      <td>100</td>\n",
       "      <td>106</td>\n",
       "      <td>44cd8f14e89c775c390d2d282735057a</td>\n",
       "      <td>000-000-9800</td>\n",
       "      <td>6.0</td>\n",
       "      <td>109.16</td>\n",
       "    </tr>\n",
       "    <tr>\n",
       "      <th>3</th>\n",
       "      <td>75eed0dd5091ba851cb1082f5c600404</td>\n",
       "      <td>2017</td>\n",
       "      <td>1</td>\n",
       "      <td>2</td>\n",
       "      <td>100</td>\n",
       "      <td>106</td>\n",
       "      <td>44cd8f14e89c775c390d2d282735057a</td>\n",
       "      <td>000-000-6742</td>\n",
       "      <td>12.0</td>\n",
       "      <td>116.72</td>\n",
       "    </tr>\n",
       "    <tr>\n",
       "      <th>4</th>\n",
       "      <td>d7b59972e86f00e016b54288826786ae</td>\n",
       "      <td>2017</td>\n",
       "      <td>1</td>\n",
       "      <td>2</td>\n",
       "      <td>010</td>\n",
       "      <td>010</td>\n",
       "      <td>e9db0c1d04bba69d87e81808c012272a</td>\n",
       "      <td>000-000-11557</td>\n",
       "      <td>6.0</td>\n",
       "      <td>104.13</td>\n",
       "    </tr>\n",
       "  </tbody>\n",
       "</table>\n",
       "</div>"
      ],
      "text/plain": [
       "                     CODIGO_CLIENTE  YEAR  MONTH  DAY CANAL SUBCANAL  \\\n",
       "0  c4798d1002b95e5b0f16f09c62c95e06  2017      1    2   010      010   \n",
       "1  c4798d1002b95e5b0f16f09c62c95e06  2017      1    2   010      010   \n",
       "2  75eed0dd5091ba851cb1082f5c600404  2017      1    2   100      106   \n",
       "3  75eed0dd5091ba851cb1082f5c600404  2017      1    2   100      106   \n",
       "4  d7b59972e86f00e016b54288826786ae  2017      1    2   010      010   \n",
       "\n",
       "                     FACTURA_NUM_ID CODIGO_ARTICULO  CANTIDAD  PRECIO_TOTAL  \n",
       "0  297574e436e7466386da63886436195b    000-000-6673       1.0         26.08  \n",
       "1  297574e436e7466386da63886436195b   000-000-11000       1.0         12.62  \n",
       "2  44cd8f14e89c775c390d2d282735057a    000-000-9800       6.0        109.16  \n",
       "3  44cd8f14e89c775c390d2d282735057a    000-000-6742      12.0        116.72  \n",
       "4  e9db0c1d04bba69d87e81808c012272a   000-000-11557       6.0        104.13  "
      ]
     },
     "metadata": {},
     "output_type": "display_data"
    },
    {
     "data": {
      "text/plain": [
       "'1480510 registros'"
      ]
     },
     "metadata": {},
     "output_type": "display_data"
    }
   ],
   "source": [
    "display(data_df.head())\n",
    "display(str(len(data_df)) + ' registros')\n"
   ]
  },
  {
   "cell_type": "code",
   "execution_count": null,
   "metadata": {},
   "outputs": [],
   "source": []
  },
  {
   "cell_type": "markdown",
   "metadata": {},
   "source": [
    "# Analisis previo de datos"
   ]
  },
  {
   "cell_type": "markdown",
   "metadata": {},
   "source": [
    "Obtenemos la cantidad de ventas por mes realizadas a cada cliente. Esto se hace viendo los días de venta distintos "
   ]
  },
  {
   "cell_type": "code",
   "execution_count": 9,
   "metadata": {},
   "outputs": [],
   "source": [
    "ppc_df = ( data_df[['CODIGO_CLIENTE', 'MONTH', 'CODIGO_ARTICULO', 'CANTIDAD', 'PRECIO_TOTAL']]\n",
    "        .groupby(['MONTH', 'CODIGO_ARTICULO'])\n",
    "        .agg({ 'CODIGO_CLIENTE':'nunique', 'CANTIDAD': 'sum', 'PRECIO_TOTAL': 'sum' })        \n",
    "        .reset_index()\n",
    "        .rename(columns={'CODIGO_CLIENTE':'CANTIDAD_CLIENTES', 'CANTIDAD':'UNIDADES_VENDIDAS', 'PRECIO_TOTAL':'MONTO_TOTAL'})\n",
    "    )    "
   ]
  },
  {
   "cell_type": "code",
   "execution_count": 10,
   "metadata": {},
   "outputs": [
    {
     "data": {
      "text/html": [
       "<div>\n",
       "<style scoped>\n",
       "    .dataframe tbody tr th:only-of-type {\n",
       "        vertical-align: middle;\n",
       "    }\n",
       "\n",
       "    .dataframe tbody tr th {\n",
       "        vertical-align: top;\n",
       "    }\n",
       "\n",
       "    .dataframe thead th {\n",
       "        text-align: right;\n",
       "    }\n",
       "</style>\n",
       "<table border=\"1\" class=\"dataframe\">\n",
       "  <thead>\n",
       "    <tr style=\"text-align: right;\">\n",
       "      <th></th>\n",
       "      <th>MONTH</th>\n",
       "      <th>CODIGO_ARTICULO</th>\n",
       "      <th>CANTIDAD_CLIENTES</th>\n",
       "      <th>UNIDADES_VENDIDAS</th>\n",
       "      <th>MONTO_TOTAL</th>\n",
       "    </tr>\n",
       "  </thead>\n",
       "  <tbody>\n",
       "    <tr>\n",
       "      <th>0</th>\n",
       "      <td>1</td>\n",
       "      <td>000-000-0236</td>\n",
       "      <td>2</td>\n",
       "      <td>3.0</td>\n",
       "      <td>157.83</td>\n",
       "    </tr>\n",
       "    <tr>\n",
       "      <th>1</th>\n",
       "      <td>1</td>\n",
       "      <td>000-000-0241</td>\n",
       "      <td>30</td>\n",
       "      <td>280.0</td>\n",
       "      <td>4040.96</td>\n",
       "    </tr>\n",
       "    <tr>\n",
       "      <th>2</th>\n",
       "      <td>1</td>\n",
       "      <td>000-000-0245</td>\n",
       "      <td>7</td>\n",
       "      <td>50.0</td>\n",
       "      <td>813.36</td>\n",
       "    </tr>\n",
       "    <tr>\n",
       "      <th>3</th>\n",
       "      <td>1</td>\n",
       "      <td>000-000-0248</td>\n",
       "      <td>12</td>\n",
       "      <td>92.0</td>\n",
       "      <td>1593.02</td>\n",
       "    </tr>\n",
       "    <tr>\n",
       "      <th>4</th>\n",
       "      <td>1</td>\n",
       "      <td>000-000-0256</td>\n",
       "      <td>41</td>\n",
       "      <td>581.0</td>\n",
       "      <td>13131.07</td>\n",
       "    </tr>\n",
       "  </tbody>\n",
       "</table>\n",
       "</div>"
      ],
      "text/plain": [
       "   MONTH CODIGO_ARTICULO  CANTIDAD_CLIENTES  UNIDADES_VENDIDAS  MONTO_TOTAL\n",
       "0      1    000-000-0236                  2                3.0       157.83\n",
       "1      1    000-000-0241                 30              280.0      4040.96\n",
       "2      1    000-000-0245                  7               50.0       813.36\n",
       "3      1    000-000-0248                 12               92.0      1593.02\n",
       "4      1    000-000-0256                 41              581.0     13131.07"
      ]
     },
     "execution_count": 10,
     "metadata": {},
     "output_type": "execute_result"
    }
   ],
   "source": [
    "ppc_df.head()"
   ]
  },
  {
   "cell_type": "code",
   "execution_count": 11,
   "metadata": {},
   "outputs": [],
   "source": [
    "# OBTENEMOS EL PRODUCT SCORE\n",
    "\n",
    "clientes_norm = (ppc_df['CANTIDAD_CLIENTES']-ppc_df['CANTIDAD_CLIENTES'].min())/(ppc_df['CANTIDAD_CLIENTES'].max()-ppc_df['CANTIDAD_CLIENTES'].min())\n",
    "unidades_norm = (ppc_df['UNIDADES_VENDIDAS']-ppc_df['UNIDADES_VENDIDAS'].min())/(ppc_df['UNIDADES_VENDIDAS'].max()-ppc_df['UNIDADES_VENDIDAS'].min())\n",
    "monto_norm = (ppc_df['MONTO_TOTAL']-ppc_df['MONTO_TOTAL'].min())/(ppc_df['MONTO_TOTAL'].max()-ppc_df['MONTO_TOTAL'].min())\n",
    "\n",
    "ppc_df['PRODUCT_SCORE'] = 3 / (1/clientes_norm + 1/unidades_norm + 1/monto_norm)\n"
   ]
  },
  {
   "cell_type": "code",
   "execution_count": 12,
   "metadata": {},
   "outputs": [
    {
     "data": {
      "image/png": "[encoded data removed]",
      "text/plain": [
       "<matplotlib.figure.Figure at 0x7ff9f37d4d68>"
      ]
     },
     "metadata": {},
     "output_type": "display_data"
    }
   ],
   "source": [
    "plt.clf()\n",
    "sns.boxplot(x=\"MONTH\", y=\"CANTIDAD_CLIENTES\", data=ppc_df ).set_title(\"CLIENTES/PRODUCTO POR MES\",fontsize=20);\n",
    "plt.show()"
   ]
  },
  {
   "cell_type": "code",
   "execution_count": 13,
   "metadata": {},
   "outputs": [
    {
     "data": {
      "image/png": "[encoded data removed]",
      "text/plain": [
       "<matplotlib.figure.Figure at 0x7ff9f37d42e8>"
      ]
     },
     "metadata": {},
     "output_type": "display_data"
    }
   ],
   "source": [
    "plt.clf()\n",
    "sns.boxplot(x=\"MONTH\", y=\"UNIDADES_VENDIDAS\", data=ppc_df).set_title(\"UNIDADES/PRODUCTO POR MES\",fontsize=20);\n",
    "plt.show()\n"
   ]
  },
  {
   "cell_type": "code",
   "execution_count": 14,
   "metadata": {},
   "outputs": [
    {
     "data": {
      "image/png": "[encoded data removed]",
      "text/plain": [
       "<matplotlib.figure.Figure at 0x7ff9ea7e3400>"
      ]
     },
     "metadata": {},
     "output_type": "display_data"
    }
   ],
   "source": [
    "plt.clf()\n",
    "sns.boxplot(x=\"MONTH\", y=\"MONTO_TOTAL\", data=ppc_df ).set_title(\"MONTO/PRODUCTO POR MES\",fontsize=20);\n",
    "plt.show()"
   ]
  },
  {
   "cell_type": "code",
   "execution_count": 15,
   "metadata": {},
   "outputs": [
    {
     "data": {
      "image/png": "[encoded data removed]",
      "text/plain": [
       "<matplotlib.figure.Figure at 0x7ff9ea69d438>"
      ]
     },
     "metadata": {},
     "output_type": "display_data"
    }
   ],
   "source": [
    "plt.clf()\n",
    "sns.boxplot(x=\"MONTH\", y=\"PRODUCT_SCORE\", data=ppc_df).set_title(\"SCORE/PRODUCTO POR MES\",fontsize=20);\n",
    "plt.show()\n"
   ]
  },
  {
   "cell_type": "code",
   "execution_count": 16,
   "metadata": {},
   "outputs": [
    {
     "data": {
      "text/plain": [
       "12807"
      ]
     },
     "metadata": {},
     "output_type": "display_data"
    }
   ],
   "source": [
    "display(len(ppc_df))"
   ]
  },
  {
   "cell_type": "code",
   "execution_count": 17,
   "metadata": {},
   "outputs": [
    {
     "data": {
      "text/plain": [
       "count   12,807.000\n",
       "mean         0.007\n",
       "std          0.022\n",
       "min          0.000\n",
       "25%          0.000\n",
       "50%          0.002\n",
       "75%          0.006\n",
       "max          0.451\n",
       "Name: PRODUCT_SCORE, dtype: float64"
      ]
     },
     "metadata": {},
     "output_type": "display_data"
    }
   ],
   "source": [
    "with pd.option_context('display.float_format', lambda x: '{:,.3f}'.format(x)):\n",
    "    display(ppc_df.PRODUCT_SCORE.describe())"
   ]
  },
  {
   "cell_type": "markdown",
   "metadata": {},
   "source": [
    "# Eliminamos algunos outliers para mejorar la visualización:"
   ]
  },
  {
   "cell_type": "code",
   "execution_count": 18,
   "metadata": {},
   "outputs": [
    {
     "data": {
      "text/plain": [
       "12632"
      ]
     },
     "metadata": {},
     "output_type": "display_data"
    }
   ],
   "source": [
    "# Removemos los outliers segun SCORE (que prioriza los tres valors de referencia) y revisamos:\n",
    "ppc_r1_df = ppc_df[np.abs(ppc_df.PRODUCT_SCORE-ppc_df.PRODUCT_SCORE.mean()) <= (ppc_df.PRODUCT_SCORE.std()*3)]\n",
    "display(len(ppc_r1_df))"
   ]
  },
  {
   "cell_type": "code",
   "execution_count": 19,
   "metadata": {},
   "outputs": [
    {
     "data": {
      "image/png": "[encoded data removed]",
      "text/plain": [
       "<matplotlib.figure.Figure at 0x7ff9ea57fcf8>"
      ]
     },
     "metadata": {},
     "output_type": "display_data"
    }
   ],
   "source": [
    "plt.clf()\n",
    "sns.boxplot(x=\"MONTH\", y=\"PRODUCT_SCORE\", data=ppc_r1_df).set_title(\"SCORE/PRODUCTO POR MES\",fontsize=20);\n",
    "plt.show()"
   ]
  },
  {
   "cell_type": "code",
   "execution_count": 20,
   "metadata": {},
   "outputs": [
    {
     "data": {
      "image/png": "[encoded data removed]",
      "text/plain": [
       "<matplotlib.figure.Figure at 0x7ff9ea3d3048>"
      ]
     },
     "metadata": {},
     "output_type": "display_data"
    }
   ],
   "source": [
    "plt.clf()\n",
    "sns.boxplot(x=\"MONTH\", y=\"CANTIDAD_CLIENTES\", data=ppc_r1_df).set_title(\"SCORE/PRODUCTO POR MES\",fontsize=20);\n",
    "plt.show()"
   ]
  },
  {
   "cell_type": "code",
   "execution_count": 21,
   "metadata": {},
   "outputs": [
    {
     "data": {
      "text/html": [
       "<H2>* PRODUCTOS MES 1:</H2>"
      ],
      "text/plain": [
       "<IPython.core.display.HTML object>"
      ]
     },
     "metadata": {},
     "output_type": "display_data"
    },
    {
     "data": {
      "text/html": [
       "<div>\n",
       "<style scoped>\n",
       "    .dataframe tbody tr th:only-of-type {\n",
       "        vertical-align: middle;\n",
       "    }\n",
       "\n",
       "    .dataframe tbody tr th {\n",
       "        vertical-align: top;\n",
       "    }\n",
       "\n",
       "    .dataframe thead th {\n",
       "        text-align: right;\n",
       "    }\n",
       "</style>\n",
       "<table border=\"1\" class=\"dataframe\">\n",
       "  <thead>\n",
       "    <tr style=\"text-align: right;\">\n",
       "      <th></th>\n",
       "      <th>MONTH</th>\n",
       "      <th>CANTIDAD_CLIENTES</th>\n",
       "      <th>UNIDADES_VENDIDAS</th>\n",
       "      <th>MONTO_TOTAL</th>\n",
       "      <th>PRODUCT_SCORE</th>\n",
       "    </tr>\n",
       "  </thead>\n",
       "  <tbody>\n",
       "    <tr>\n",
       "      <th>count</th>\n",
       "      <td>978.0</td>\n",
       "      <td>978.000000</td>\n",
       "      <td>978.000000</td>\n",
       "      <td>978.000000</td>\n",
       "      <td>978.000000</td>\n",
       "    </tr>\n",
       "    <tr>\n",
       "      <th>mean</th>\n",
       "      <td>1.0</td>\n",
       "      <td>64.494888</td>\n",
       "      <td>2434.212384</td>\n",
       "      <td>10589.586708</td>\n",
       "      <td>0.004273</td>\n",
       "    </tr>\n",
       "    <tr>\n",
       "      <th>std</th>\n",
       "      <td>0.0</td>\n",
       "      <td>94.069512</td>\n",
       "      <td>8563.052905</td>\n",
       "      <td>18439.151289</td>\n",
       "      <td>0.008480</td>\n",
       "    </tr>\n",
       "    <tr>\n",
       "      <th>min</th>\n",
       "      <td>1.0</td>\n",
       "      <td>1.000000</td>\n",
       "      <td>1.000000</td>\n",
       "      <td>0.460000</td>\n",
       "      <td>0.000000</td>\n",
       "    </tr>\n",
       "    <tr>\n",
       "      <th>25%</th>\n",
       "      <td>1.0</td>\n",
       "      <td>7.000000</td>\n",
       "      <td>60.250000</td>\n",
       "      <td>1457.295000</td>\n",
       "      <td>0.000219</td>\n",
       "    </tr>\n",
       "    <tr>\n",
       "      <th>50%</th>\n",
       "      <td>1.0</td>\n",
       "      <td>25.000000</td>\n",
       "      <td>367.500000</td>\n",
       "      <td>4396.400000</td>\n",
       "      <td>0.001204</td>\n",
       "    </tr>\n",
       "    <tr>\n",
       "      <th>75%</th>\n",
       "      <td>1.0</td>\n",
       "      <td>82.000000</td>\n",
       "      <td>1400.000000</td>\n",
       "      <td>11716.295000</td>\n",
       "      <td>0.004003</td>\n",
       "    </tr>\n",
       "    <tr>\n",
       "      <th>max</th>\n",
       "      <td>1.0</td>\n",
       "      <td>689.000000</td>\n",
       "      <td>172080.000000</td>\n",
       "      <td>192665.030000</td>\n",
       "      <td>0.064081</td>\n",
       "    </tr>\n",
       "  </tbody>\n",
       "</table>\n",
       "</div>"
      ],
      "text/plain": [
       "       MONTH  CANTIDAD_CLIENTES  UNIDADES_VENDIDAS    MONTO_TOTAL  \\\n",
       "count  978.0         978.000000         978.000000     978.000000   \n",
       "mean     1.0          64.494888        2434.212384   10589.586708   \n",
       "std      0.0          94.069512        8563.052905   18439.151289   \n",
       "min      1.0           1.000000           1.000000       0.460000   \n",
       "25%      1.0           7.000000          60.250000    1457.295000   \n",
       "50%      1.0          25.000000         367.500000    4396.400000   \n",
       "75%      1.0          82.000000        1400.000000   11716.295000   \n",
       "max      1.0         689.000000      172080.000000  192665.030000   \n",
       "\n",
       "       PRODUCT_SCORE  \n",
       "count     978.000000  \n",
       "mean        0.004273  \n",
       "std         0.008480  \n",
       "min         0.000000  \n",
       "25%         0.000219  \n",
       "50%         0.001204  \n",
       "75%         0.004003  \n",
       "max         0.064081  "
      ]
     },
     "metadata": {},
     "output_type": "display_data"
    },
    {
     "data": {
      "text/html": [
       "<hr/>"
      ],
      "text/plain": [
       "<IPython.core.display.HTML object>"
      ]
     },
     "metadata": {},
     "output_type": "display_data"
    },
    {
     "data": {
      "text/html": [
       "<H2>* PRODUCTOS MES 2:</H2>"
      ],
      "text/plain": [
       "<IPython.core.display.HTML object>"
      ]
     },
     "metadata": {},
     "output_type": "display_data"
    },
    {
     "data": {
      "text/html": [
       "<div>\n",
       "<style scoped>\n",
       "    .dataframe tbody tr th:only-of-type {\n",
       "        vertical-align: middle;\n",
       "    }\n",
       "\n",
       "    .dataframe tbody tr th {\n",
       "        vertical-align: top;\n",
       "    }\n",
       "\n",
       "    .dataframe thead th {\n",
       "        text-align: right;\n",
       "    }\n",
       "</style>\n",
       "<table border=\"1\" class=\"dataframe\">\n",
       "  <thead>\n",
       "    <tr style=\"text-align: right;\">\n",
       "      <th></th>\n",
       "      <th>MONTH</th>\n",
       "      <th>CANTIDAD_CLIENTES</th>\n",
       "      <th>UNIDADES_VENDIDAS</th>\n",
       "      <th>MONTO_TOTAL</th>\n",
       "      <th>PRODUCT_SCORE</th>\n",
       "    </tr>\n",
       "  </thead>\n",
       "  <tbody>\n",
       "    <tr>\n",
       "      <th>count</th>\n",
       "      <td>968.0</td>\n",
       "      <td>968.000000</td>\n",
       "      <td>968.000000</td>\n",
       "      <td>968.000000</td>\n",
       "      <td>968.000000</td>\n",
       "    </tr>\n",
       "    <tr>\n",
       "      <th>mean</th>\n",
       "      <td>2.0</td>\n",
       "      <td>64.184917</td>\n",
       "      <td>2327.272839</td>\n",
       "      <td>11143.294318</td>\n",
       "      <td>0.004228</td>\n",
       "    </tr>\n",
       "    <tr>\n",
       "      <th>std</th>\n",
       "      <td>0.0</td>\n",
       "      <td>92.344606</td>\n",
       "      <td>8125.559953</td>\n",
       "      <td>20647.384102</td>\n",
       "      <td>0.008106</td>\n",
       "    </tr>\n",
       "    <tr>\n",
       "      <th>min</th>\n",
       "      <td>2.0</td>\n",
       "      <td>1.000000</td>\n",
       "      <td>1.000000</td>\n",
       "      <td>0.100000</td>\n",
       "      <td>0.000000</td>\n",
       "    </tr>\n",
       "    <tr>\n",
       "      <th>25%</th>\n",
       "      <td>2.0</td>\n",
       "      <td>7.000000</td>\n",
       "      <td>59.000000</td>\n",
       "      <td>1434.377500</td>\n",
       "      <td>0.000216</td>\n",
       "    </tr>\n",
       "    <tr>\n",
       "      <th>50%</th>\n",
       "      <td>2.0</td>\n",
       "      <td>27.000000</td>\n",
       "      <td>381.000000</td>\n",
       "      <td>4492.120000</td>\n",
       "      <td>0.001299</td>\n",
       "    </tr>\n",
       "    <tr>\n",
       "      <th>75%</th>\n",
       "      <td>2.0</td>\n",
       "      <td>81.250000</td>\n",
       "      <td>1453.000000</td>\n",
       "      <td>11472.765000</td>\n",
       "      <td>0.004201</td>\n",
       "    </tr>\n",
       "    <tr>\n",
       "      <th>max</th>\n",
       "      <td>2.0</td>\n",
       "      <td>652.000000</td>\n",
       "      <td>168840.000000</td>\n",
       "      <td>274052.480000</td>\n",
       "      <td>0.065476</td>\n",
       "    </tr>\n",
       "  </tbody>\n",
       "</table>\n",
       "</div>"
      ],
      "text/plain": [
       "       MONTH  CANTIDAD_CLIENTES  UNIDADES_VENDIDAS    MONTO_TOTAL  \\\n",
       "count  968.0         968.000000         968.000000     968.000000   \n",
       "mean     2.0          64.184917        2327.272839   11143.294318   \n",
       "std      0.0          92.344606        8125.559953   20647.384102   \n",
       "min      2.0           1.000000           1.000000       0.100000   \n",
       "25%      2.0           7.000000          59.000000    1434.377500   \n",
       "50%      2.0          27.000000         381.000000    4492.120000   \n",
       "75%      2.0          81.250000        1453.000000   11472.765000   \n",
       "max      2.0         652.000000      168840.000000  274052.480000   \n",
       "\n",
       "       PRODUCT_SCORE  \n",
       "count     968.000000  \n",
       "mean        0.004228  \n",
       "std         0.008106  \n",
       "min         0.000000  \n",
       "25%         0.000216  \n",
       "50%         0.001299  \n",
       "75%         0.004201  \n",
       "max         0.065476  "
      ]
     },
     "metadata": {},
     "output_type": "display_data"
    },
    {
     "data": {
      "text/html": [
       "<hr/>"
      ],
      "text/plain": [
       "<IPython.core.display.HTML object>"
      ]
     },
     "metadata": {},
     "output_type": "display_data"
    },
    {
     "data": {
      "text/html": [
       "<H2>* PRODUCTOS MES 3:</H2>"
      ],
      "text/plain": [
       "<IPython.core.display.HTML object>"
      ]
     },
     "metadata": {},
     "output_type": "display_data"
    },
    {
     "data": {
      "text/html": [
       "<div>\n",
       "<style scoped>\n",
       "    .dataframe tbody tr th:only-of-type {\n",
       "        vertical-align: middle;\n",
       "    }\n",
       "\n",
       "    .dataframe tbody tr th {\n",
       "        vertical-align: top;\n",
       "    }\n",
       "\n",
       "    .dataframe thead th {\n",
       "        text-align: right;\n",
       "    }\n",
       "</style>\n",
       "<table border=\"1\" class=\"dataframe\">\n",
       "  <thead>\n",
       "    <tr style=\"text-align: right;\">\n",
       "      <th></th>\n",
       "      <th>MONTH</th>\n",
       "      <th>CANTIDAD_CLIENTES</th>\n",
       "      <th>UNIDADES_VENDIDAS</th>\n",
       "      <th>MONTO_TOTAL</th>\n",
       "      <th>PRODUCT_SCORE</th>\n",
       "    </tr>\n",
       "  </thead>\n",
       "  <tbody>\n",
       "    <tr>\n",
       "      <th>count</th>\n",
       "      <td>1053.0</td>\n",
       "      <td>1053.000000</td>\n",
       "      <td>1053.000000</td>\n",
       "      <td>1053.000000</td>\n",
       "      <td>1053.000000</td>\n",
       "    </tr>\n",
       "    <tr>\n",
       "      <th>mean</th>\n",
       "      <td>3.0</td>\n",
       "      <td>80.385565</td>\n",
       "      <td>2880.141214</td>\n",
       "      <td>15530.756477</td>\n",
       "      <td>0.005578</td>\n",
       "    </tr>\n",
       "    <tr>\n",
       "      <th>std</th>\n",
       "      <td>0.0</td>\n",
       "      <td>111.147204</td>\n",
       "      <td>8027.284186</td>\n",
       "      <td>24645.719876</td>\n",
       "      <td>0.009607</td>\n",
       "    </tr>\n",
       "    <tr>\n",
       "      <th>min</th>\n",
       "      <td>3.0</td>\n",
       "      <td>1.000000</td>\n",
       "      <td>1.000000</td>\n",
       "      <td>0.160000</td>\n",
       "      <td>0.000000</td>\n",
       "    </tr>\n",
       "    <tr>\n",
       "      <th>25%</th>\n",
       "      <td>3.0</td>\n",
       "      <td>8.000000</td>\n",
       "      <td>96.000000</td>\n",
       "      <td>2258.660000</td>\n",
       "      <td>0.000362</td>\n",
       "    </tr>\n",
       "    <tr>\n",
       "      <th>50%</th>\n",
       "      <td>3.0</td>\n",
       "      <td>36.000000</td>\n",
       "      <td>504.000000</td>\n",
       "      <td>6775.340000</td>\n",
       "      <td>0.001721</td>\n",
       "    </tr>\n",
       "    <tr>\n",
       "      <th>75%</th>\n",
       "      <td>3.0</td>\n",
       "      <td>104.000000</td>\n",
       "      <td>1996.000000</td>\n",
       "      <td>17907.450000</td>\n",
       "      <td>0.005825</td>\n",
       "    </tr>\n",
       "    <tr>\n",
       "      <th>max</th>\n",
       "      <td>3.0</td>\n",
       "      <td>658.000000</td>\n",
       "      <td>136800.000000</td>\n",
       "      <td>277870.940000</td>\n",
       "      <td>0.069889</td>\n",
       "    </tr>\n",
       "  </tbody>\n",
       "</table>\n",
       "</div>"
      ],
      "text/plain": [
       "        MONTH  CANTIDAD_CLIENTES  UNIDADES_VENDIDAS    MONTO_TOTAL  \\\n",
       "count  1053.0        1053.000000        1053.000000    1053.000000   \n",
       "mean      3.0          80.385565        2880.141214   15530.756477   \n",
       "std       0.0         111.147204        8027.284186   24645.719876   \n",
       "min       3.0           1.000000           1.000000       0.160000   \n",
       "25%       3.0           8.000000          96.000000    2258.660000   \n",
       "50%       3.0          36.000000         504.000000    6775.340000   \n",
       "75%       3.0         104.000000        1996.000000   17907.450000   \n",
       "max       3.0         658.000000      136800.000000  277870.940000   \n",
       "\n",
       "       PRODUCT_SCORE  \n",
       "count    1053.000000  \n",
       "mean        0.005578  \n",
       "std         0.009607  \n",
       "min         0.000000  \n",
       "25%         0.000362  \n",
       "50%         0.001721  \n",
       "75%         0.005825  \n",
       "max         0.069889  "
      ]
     },
     "metadata": {},
     "output_type": "display_data"
    },
    {
     "data": {
      "text/html": [
       "<hr/>"
      ],
      "text/plain": [
       "<IPython.core.display.HTML object>"
      ]
     },
     "metadata": {},
     "output_type": "display_data"
    },
    {
     "data": {
      "text/html": [
       "<H2>* PRODUCTOS MES 4:</H2>"
      ],
      "text/plain": [
       "<IPython.core.display.HTML object>"
      ]
     },
     "metadata": {},
     "output_type": "display_data"
    },
    {
     "data": {
      "text/html": [
       "<div>\n",
       "<style scoped>\n",
       "    .dataframe tbody tr th:only-of-type {\n",
       "        vertical-align: middle;\n",
       "    }\n",
       "\n",
       "    .dataframe tbody tr th {\n",
       "        vertical-align: top;\n",
       "    }\n",
       "\n",
       "    .dataframe thead th {\n",
       "        text-align: right;\n",
       "    }\n",
       "</style>\n",
       "<table border=\"1\" class=\"dataframe\">\n",
       "  <thead>\n",
       "    <tr style=\"text-align: right;\">\n",
       "      <th></th>\n",
       "      <th>MONTH</th>\n",
       "      <th>CANTIDAD_CLIENTES</th>\n",
       "      <th>UNIDADES_VENDIDAS</th>\n",
       "      <th>MONTO_TOTAL</th>\n",
       "      <th>PRODUCT_SCORE</th>\n",
       "    </tr>\n",
       "  </thead>\n",
       "  <tbody>\n",
       "    <tr>\n",
       "      <th>count</th>\n",
       "      <td>1010.0</td>\n",
       "      <td>1010.000000</td>\n",
       "      <td>1010.000000</td>\n",
       "      <td>1010.000000</td>\n",
       "      <td>1010.000000</td>\n",
       "    </tr>\n",
       "    <tr>\n",
       "      <th>mean</th>\n",
       "      <td>4.0</td>\n",
       "      <td>75.205941</td>\n",
       "      <td>2682.205501</td>\n",
       "      <td>12348.653475</td>\n",
       "      <td>0.004944</td>\n",
       "    </tr>\n",
       "    <tr>\n",
       "      <th>std</th>\n",
       "      <td>0.0</td>\n",
       "      <td>104.184345</td>\n",
       "      <td>8447.455424</td>\n",
       "      <td>18545.027028</td>\n",
       "      <td>0.009017</td>\n",
       "    </tr>\n",
       "    <tr>\n",
       "      <th>min</th>\n",
       "      <td>4.0</td>\n",
       "      <td>1.000000</td>\n",
       "      <td>1.000000</td>\n",
       "      <td>0.100000</td>\n",
       "      <td>0.000000</td>\n",
       "    </tr>\n",
       "    <tr>\n",
       "      <th>25%</th>\n",
       "      <td>4.0</td>\n",
       "      <td>7.000000</td>\n",
       "      <td>81.250000</td>\n",
       "      <td>1516.405000</td>\n",
       "      <td>0.000291</td>\n",
       "    </tr>\n",
       "    <tr>\n",
       "      <th>50%</th>\n",
       "      <td>4.0</td>\n",
       "      <td>32.000000</td>\n",
       "      <td>422.500000</td>\n",
       "      <td>5609.535000</td>\n",
       "      <td>0.001453</td>\n",
       "    </tr>\n",
       "    <tr>\n",
       "      <th>75%</th>\n",
       "      <td>4.0</td>\n",
       "      <td>96.000000</td>\n",
       "      <td>1766.250000</td>\n",
       "      <td>15163.945000</td>\n",
       "      <td>0.005434</td>\n",
       "    </tr>\n",
       "    <tr>\n",
       "      <th>max</th>\n",
       "      <td>4.0</td>\n",
       "      <td>603.000000</td>\n",
       "      <td>166440.000000</td>\n",
       "      <td>143963.830000</td>\n",
       "      <td>0.067410</td>\n",
       "    </tr>\n",
       "  </tbody>\n",
       "</table>\n",
       "</div>"
      ],
      "text/plain": [
       "        MONTH  CANTIDAD_CLIENTES  UNIDADES_VENDIDAS    MONTO_TOTAL  \\\n",
       "count  1010.0        1010.000000        1010.000000    1010.000000   \n",
       "mean      4.0          75.205941        2682.205501   12348.653475   \n",
       "std       0.0         104.184345        8447.455424   18545.027028   \n",
       "min       4.0           1.000000           1.000000       0.100000   \n",
       "25%       4.0           7.000000          81.250000    1516.405000   \n",
       "50%       4.0          32.000000         422.500000    5609.535000   \n",
       "75%       4.0          96.000000        1766.250000   15163.945000   \n",
       "max       4.0         603.000000      166440.000000  143963.830000   \n",
       "\n",
       "       PRODUCT_SCORE  \n",
       "count    1010.000000  \n",
       "mean        0.004944  \n",
       "std         0.009017  \n",
       "min         0.000000  \n",
       "25%         0.000291  \n",
       "50%         0.001453  \n",
       "75%         0.005434  \n",
       "max         0.067410  "
      ]
     },
     "metadata": {},
     "output_type": "display_data"
    },
    {
     "data": {
      "text/html": [
       "<hr/>"
      ],
      "text/plain": [
       "<IPython.core.display.HTML object>"
      ]
     },
     "metadata": {},
     "output_type": "display_data"
    },
    {
     "data": {
      "text/html": [
       "<H2>* PRODUCTOS MES 5:</H2>"
      ],
      "text/plain": [
       "<IPython.core.display.HTML object>"
      ]
     },
     "metadata": {},
     "output_type": "display_data"
    },
    {
     "data": {
      "text/html": [
       "<div>\n",
       "<style scoped>\n",
       "    .dataframe tbody tr th:only-of-type {\n",
       "        vertical-align: middle;\n",
       "    }\n",
       "\n",
       "    .dataframe tbody tr th {\n",
       "        vertical-align: top;\n",
       "    }\n",
       "\n",
       "    .dataframe thead th {\n",
       "        text-align: right;\n",
       "    }\n",
       "</style>\n",
       "<table border=\"1\" class=\"dataframe\">\n",
       "  <thead>\n",
       "    <tr style=\"text-align: right;\">\n",
       "      <th></th>\n",
       "      <th>MONTH</th>\n",
       "      <th>CANTIDAD_CLIENTES</th>\n",
       "      <th>UNIDADES_VENDIDAS</th>\n",
       "      <th>MONTO_TOTAL</th>\n",
       "      <th>PRODUCT_SCORE</th>\n",
       "    </tr>\n",
       "  </thead>\n",
       "  <tbody>\n",
       "    <tr>\n",
       "      <th>count</th>\n",
       "      <td>1004.0</td>\n",
       "      <td>1004.000000</td>\n",
       "      <td>1004.000000</td>\n",
       "      <td>1004.000000</td>\n",
       "      <td>1004.000000</td>\n",
       "    </tr>\n",
       "    <tr>\n",
       "      <th>mean</th>\n",
       "      <td>5.0</td>\n",
       "      <td>86.992032</td>\n",
       "      <td>3080.318613</td>\n",
       "      <td>15163.087799</td>\n",
       "      <td>0.005794</td>\n",
       "    </tr>\n",
       "    <tr>\n",
       "      <th>std</th>\n",
       "      <td>0.0</td>\n",
       "      <td>122.154520</td>\n",
       "      <td>9365.973987</td>\n",
       "      <td>25297.820799</td>\n",
       "      <td>0.010279</td>\n",
       "    </tr>\n",
       "    <tr>\n",
       "      <th>min</th>\n",
       "      <td>5.0</td>\n",
       "      <td>1.000000</td>\n",
       "      <td>1.000000</td>\n",
       "      <td>0.030000</td>\n",
       "      <td>0.000000</td>\n",
       "    </tr>\n",
       "    <tr>\n",
       "      <th>25%</th>\n",
       "      <td>5.0</td>\n",
       "      <td>8.000000</td>\n",
       "      <td>93.750000</td>\n",
       "      <td>1675.937500</td>\n",
       "      <td>0.000347</td>\n",
       "    </tr>\n",
       "    <tr>\n",
       "      <th>50%</th>\n",
       "      <td>5.0</td>\n",
       "      <td>40.000000</td>\n",
       "      <td>491.000000</td>\n",
       "      <td>6508.750000</td>\n",
       "      <td>0.001688</td>\n",
       "    </tr>\n",
       "    <tr>\n",
       "      <th>75%</th>\n",
       "      <td>5.0</td>\n",
       "      <td>112.000000</td>\n",
       "      <td>2063.500000</td>\n",
       "      <td>17770.380000</td>\n",
       "      <td>0.006194</td>\n",
       "    </tr>\n",
       "    <tr>\n",
       "      <th>max</th>\n",
       "      <td>5.0</td>\n",
       "      <td>892.000000</td>\n",
       "      <td>182742.000000</td>\n",
       "      <td>254672.380000</td>\n",
       "      <td>0.068780</td>\n",
       "    </tr>\n",
       "  </tbody>\n",
       "</table>\n",
       "</div>"
      ],
      "text/plain": [
       "        MONTH  CANTIDAD_CLIENTES  UNIDADES_VENDIDAS    MONTO_TOTAL  \\\n",
       "count  1004.0        1004.000000        1004.000000    1004.000000   \n",
       "mean      5.0          86.992032        3080.318613   15163.087799   \n",
       "std       0.0         122.154520        9365.973987   25297.820799   \n",
       "min       5.0           1.000000           1.000000       0.030000   \n",
       "25%       5.0           8.000000          93.750000    1675.937500   \n",
       "50%       5.0          40.000000         491.000000    6508.750000   \n",
       "75%       5.0         112.000000        2063.500000   17770.380000   \n",
       "max       5.0         892.000000      182742.000000  254672.380000   \n",
       "\n",
       "       PRODUCT_SCORE  \n",
       "count    1004.000000  \n",
       "mean        0.005794  \n",
       "std         0.010279  \n",
       "min         0.000000  \n",
       "25%         0.000347  \n",
       "50%         0.001688  \n",
       "75%         0.006194  \n",
       "max         0.068780  "
      ]
     },
     "metadata": {},
     "output_type": "display_data"
    },
    {
     "data": {
      "text/html": [
       "<hr/>"
      ],
      "text/plain": [
       "<IPython.core.display.HTML object>"
      ]
     },
     "metadata": {},
     "output_type": "display_data"
    },
    {
     "data": {
      "text/html": [
       "<H2>* PRODUCTOS MES 6:</H2>"
      ],
      "text/plain": [
       "<IPython.core.display.HTML object>"
      ]
     },
     "metadata": {},
     "output_type": "display_data"
    },
    {
     "data": {
      "text/html": [
       "<div>\n",
       "<style scoped>\n",
       "    .dataframe tbody tr th:only-of-type {\n",
       "        vertical-align: middle;\n",
       "    }\n",
       "\n",
       "    .dataframe tbody tr th {\n",
       "        vertical-align: top;\n",
       "    }\n",
       "\n",
       "    .dataframe thead th {\n",
       "        text-align: right;\n",
       "    }\n",
       "</style>\n",
       "<table border=\"1\" class=\"dataframe\">\n",
       "  <thead>\n",
       "    <tr style=\"text-align: right;\">\n",
       "      <th></th>\n",
       "      <th>MONTH</th>\n",
       "      <th>CANTIDAD_CLIENTES</th>\n",
       "      <th>UNIDADES_VENDIDAS</th>\n",
       "      <th>MONTO_TOTAL</th>\n",
       "      <th>PRODUCT_SCORE</th>\n",
       "    </tr>\n",
       "  </thead>\n",
       "  <tbody>\n",
       "    <tr>\n",
       "      <th>count</th>\n",
       "      <td>1019.0</td>\n",
       "      <td>1019.000000</td>\n",
       "      <td>1019.000000</td>\n",
       "      <td>1019.000000</td>\n",
       "      <td>1019.000000</td>\n",
       "    </tr>\n",
       "    <tr>\n",
       "      <th>mean</th>\n",
       "      <td>6.0</td>\n",
       "      <td>82.000000</td>\n",
       "      <td>2739.118406</td>\n",
       "      <td>15237.952856</td>\n",
       "      <td>0.005221</td>\n",
       "    </tr>\n",
       "    <tr>\n",
       "      <th>std</th>\n",
       "      <td>0.0</td>\n",
       "      <td>117.311744</td>\n",
       "      <td>7599.389195</td>\n",
       "      <td>28292.349576</td>\n",
       "      <td>0.009346</td>\n",
       "    </tr>\n",
       "    <tr>\n",
       "      <th>min</th>\n",
       "      <td>6.0</td>\n",
       "      <td>1.000000</td>\n",
       "      <td>1.000000</td>\n",
       "      <td>0.160000</td>\n",
       "      <td>0.000000</td>\n",
       "    </tr>\n",
       "    <tr>\n",
       "      <th>25%</th>\n",
       "      <td>6.0</td>\n",
       "      <td>8.000000</td>\n",
       "      <td>70.500000</td>\n",
       "      <td>1431.340000</td>\n",
       "      <td>0.000251</td>\n",
       "    </tr>\n",
       "    <tr>\n",
       "      <th>50%</th>\n",
       "      <td>6.0</td>\n",
       "      <td>34.000000</td>\n",
       "      <td>409.000000</td>\n",
       "      <td>6073.670000</td>\n",
       "      <td>0.001483</td>\n",
       "    </tr>\n",
       "    <tr>\n",
       "      <th>75%</th>\n",
       "      <td>6.0</td>\n",
       "      <td>107.000000</td>\n",
       "      <td>1850.000000</td>\n",
       "      <td>16178.215000</td>\n",
       "      <td>0.005658</td>\n",
       "    </tr>\n",
       "    <tr>\n",
       "      <th>max</th>\n",
       "      <td>6.0</td>\n",
       "      <td>697.000000</td>\n",
       "      <td>95280.000000</td>\n",
       "      <td>339329.750000</td>\n",
       "      <td>0.071254</td>\n",
       "    </tr>\n",
       "  </tbody>\n",
       "</table>\n",
       "</div>"
      ],
      "text/plain": [
       "        MONTH  CANTIDAD_CLIENTES  UNIDADES_VENDIDAS    MONTO_TOTAL  \\\n",
       "count  1019.0        1019.000000        1019.000000    1019.000000   \n",
       "mean      6.0          82.000000        2739.118406   15237.952856   \n",
       "std       0.0         117.311744        7599.389195   28292.349576   \n",
       "min       6.0           1.000000           1.000000       0.160000   \n",
       "25%       6.0           8.000000          70.500000    1431.340000   \n",
       "50%       6.0          34.000000         409.000000    6073.670000   \n",
       "75%       6.0         107.000000        1850.000000   16178.215000   \n",
       "max       6.0         697.000000       95280.000000  339329.750000   \n",
       "\n",
       "       PRODUCT_SCORE  \n",
       "count    1019.000000  \n",
       "mean        0.005221  \n",
       "std         0.009346  \n",
       "min         0.000000  \n",
       "25%         0.000251  \n",
       "50%         0.001483  \n",
       "75%         0.005658  \n",
       "max         0.071254  "
      ]
     },
     "metadata": {},
     "output_type": "display_data"
    },
    {
     "data": {
      "text/html": [
       "<hr/>"
      ],
      "text/plain": [
       "<IPython.core.display.HTML object>"
      ]
     },
     "metadata": {},
     "output_type": "display_data"
    },
    {
     "data": {
      "text/html": [
       "<H2>* PRODUCTOS MES 7:</H2>"
      ],
      "text/plain": [
       "<IPython.core.display.HTML object>"
      ]
     },
     "metadata": {},
     "output_type": "display_data"
    },
    {
     "data": {
      "text/html": [
       "<div>\n",
       "<style scoped>\n",
       "    .dataframe tbody tr th:only-of-type {\n",
       "        vertical-align: middle;\n",
       "    }\n",
       "\n",
       "    .dataframe tbody tr th {\n",
       "        vertical-align: top;\n",
       "    }\n",
       "\n",
       "    .dataframe thead th {\n",
       "        text-align: right;\n",
       "    }\n",
       "</style>\n",
       "<table border=\"1\" class=\"dataframe\">\n",
       "  <thead>\n",
       "    <tr style=\"text-align: right;\">\n",
       "      <th></th>\n",
       "      <th>MONTH</th>\n",
       "      <th>CANTIDAD_CLIENTES</th>\n",
       "      <th>UNIDADES_VENDIDAS</th>\n",
       "      <th>MONTO_TOTAL</th>\n",
       "      <th>PRODUCT_SCORE</th>\n",
       "    </tr>\n",
       "  </thead>\n",
       "  <tbody>\n",
       "    <tr>\n",
       "      <th>count</th>\n",
       "      <td>1001.0</td>\n",
       "      <td>1001.000000</td>\n",
       "      <td>1001.000000</td>\n",
       "      <td>1001.000000</td>\n",
       "      <td>1001.000000</td>\n",
       "    </tr>\n",
       "    <tr>\n",
       "      <th>mean</th>\n",
       "      <td>7.0</td>\n",
       "      <td>82.426573</td>\n",
       "      <td>2563.218479</td>\n",
       "      <td>14411.874655</td>\n",
       "      <td>0.005101</td>\n",
       "    </tr>\n",
       "    <tr>\n",
       "      <th>std</th>\n",
       "      <td>0.0</td>\n",
       "      <td>120.117871</td>\n",
       "      <td>6676.592056</td>\n",
       "      <td>25243.404785</td>\n",
       "      <td>0.009279</td>\n",
       "    </tr>\n",
       "    <tr>\n",
       "      <th>min</th>\n",
       "      <td>7.0</td>\n",
       "      <td>1.000000</td>\n",
       "      <td>1.000000</td>\n",
       "      <td>0.130000</td>\n",
       "      <td>0.000000</td>\n",
       "    </tr>\n",
       "    <tr>\n",
       "      <th>25%</th>\n",
       "      <td>7.0</td>\n",
       "      <td>8.000000</td>\n",
       "      <td>72.000000</td>\n",
       "      <td>1742.400000</td>\n",
       "      <td>0.000247</td>\n",
       "    </tr>\n",
       "    <tr>\n",
       "      <th>50%</th>\n",
       "      <td>7.0</td>\n",
       "      <td>35.000000</td>\n",
       "      <td>424.000000</td>\n",
       "      <td>5777.320000</td>\n",
       "      <td>0.001425</td>\n",
       "    </tr>\n",
       "    <tr>\n",
       "      <th>75%</th>\n",
       "      <td>7.0</td>\n",
       "      <td>103.000000</td>\n",
       "      <td>1879.000000</td>\n",
       "      <td>15277.960000</td>\n",
       "      <td>0.005515</td>\n",
       "    </tr>\n",
       "    <tr>\n",
       "      <th>max</th>\n",
       "      <td>7.0</td>\n",
       "      <td>810.000000</td>\n",
       "      <td>78165.000000</td>\n",
       "      <td>266937.320000</td>\n",
       "      <td>0.071283</td>\n",
       "    </tr>\n",
       "  </tbody>\n",
       "</table>\n",
       "</div>"
      ],
      "text/plain": [
       "        MONTH  CANTIDAD_CLIENTES  UNIDADES_VENDIDAS    MONTO_TOTAL  \\\n",
       "count  1001.0        1001.000000        1001.000000    1001.000000   \n",
       "mean      7.0          82.426573        2563.218479   14411.874655   \n",
       "std       0.0         120.117871        6676.592056   25243.404785   \n",
       "min       7.0           1.000000           1.000000       0.130000   \n",
       "25%       7.0           8.000000          72.000000    1742.400000   \n",
       "50%       7.0          35.000000         424.000000    5777.320000   \n",
       "75%       7.0         103.000000        1879.000000   15277.960000   \n",
       "max       7.0         810.000000       78165.000000  266937.320000   \n",
       "\n",
       "       PRODUCT_SCORE  \n",
       "count    1001.000000  \n",
       "mean        0.005101  \n",
       "std         0.009279  \n",
       "min         0.000000  \n",
       "25%         0.000247  \n",
       "50%         0.001425  \n",
       "75%         0.005515  \n",
       "max         0.071283  "
      ]
     },
     "metadata": {},
     "output_type": "display_data"
    },
    {
     "data": {
      "text/html": [
       "<hr/>"
      ],
      "text/plain": [
       "<IPython.core.display.HTML object>"
      ]
     },
     "metadata": {},
     "output_type": "display_data"
    },
    {
     "data": {
      "text/html": [
       "<H2>* PRODUCTOS MES 8:</H2>"
      ],
      "text/plain": [
       "<IPython.core.display.HTML object>"
      ]
     },
     "metadata": {},
     "output_type": "display_data"
    },
    {
     "data": {
      "text/html": [
       "<div>\n",
       "<style scoped>\n",
       "    .dataframe tbody tr th:only-of-type {\n",
       "        vertical-align: middle;\n",
       "    }\n",
       "\n",
       "    .dataframe tbody tr th {\n",
       "        vertical-align: top;\n",
       "    }\n",
       "\n",
       "    .dataframe thead th {\n",
       "        text-align: right;\n",
       "    }\n",
       "</style>\n",
       "<table border=\"1\" class=\"dataframe\">\n",
       "  <thead>\n",
       "    <tr style=\"text-align: right;\">\n",
       "      <th></th>\n",
       "      <th>MONTH</th>\n",
       "      <th>CANTIDAD_CLIENTES</th>\n",
       "      <th>UNIDADES_VENDIDAS</th>\n",
       "      <th>MONTO_TOTAL</th>\n",
       "      <th>PRODUCT_SCORE</th>\n",
       "    </tr>\n",
       "  </thead>\n",
       "  <tbody>\n",
       "    <tr>\n",
       "      <th>count</th>\n",
       "      <td>1072.0</td>\n",
       "      <td>1072.000000</td>\n",
       "      <td>1072.000000</td>\n",
       "      <td>1072.000000</td>\n",
       "      <td>1072.000000</td>\n",
       "    </tr>\n",
       "    <tr>\n",
       "      <th>mean</th>\n",
       "      <td>8.0</td>\n",
       "      <td>77.222015</td>\n",
       "      <td>3023.698798</td>\n",
       "      <td>15511.442789</td>\n",
       "      <td>0.005454</td>\n",
       "    </tr>\n",
       "    <tr>\n",
       "      <th>std</th>\n",
       "      <td>0.0</td>\n",
       "      <td>112.120563</td>\n",
       "      <td>10025.369619</td>\n",
       "      <td>24355.464174</td>\n",
       "      <td>0.009614</td>\n",
       "    </tr>\n",
       "    <tr>\n",
       "      <th>min</th>\n",
       "      <td>8.0</td>\n",
       "      <td>1.000000</td>\n",
       "      <td>1.000000</td>\n",
       "      <td>0.200000</td>\n",
       "      <td>0.000000</td>\n",
       "    </tr>\n",
       "    <tr>\n",
       "      <th>25%</th>\n",
       "      <td>8.0</td>\n",
       "      <td>7.000000</td>\n",
       "      <td>67.750000</td>\n",
       "      <td>1949.902500</td>\n",
       "      <td>0.000235</td>\n",
       "    </tr>\n",
       "    <tr>\n",
       "      <th>50%</th>\n",
       "      <td>8.0</td>\n",
       "      <td>30.000000</td>\n",
       "      <td>389.500000</td>\n",
       "      <td>6708.960000</td>\n",
       "      <td>0.001433</td>\n",
       "    </tr>\n",
       "    <tr>\n",
       "      <th>75%</th>\n",
       "      <td>8.0</td>\n",
       "      <td>101.000000</td>\n",
       "      <td>1950.250000</td>\n",
       "      <td>18517.730000</td>\n",
       "      <td>0.006099</td>\n",
       "    </tr>\n",
       "    <tr>\n",
       "      <th>max</th>\n",
       "      <td>8.0</td>\n",
       "      <td>677.000000</td>\n",
       "      <td>200160.000000</td>\n",
       "      <td>218121.650000</td>\n",
       "      <td>0.064425</td>\n",
       "    </tr>\n",
       "  </tbody>\n",
       "</table>\n",
       "</div>"
      ],
      "text/plain": [
       "        MONTH  CANTIDAD_CLIENTES  UNIDADES_VENDIDAS    MONTO_TOTAL  \\\n",
       "count  1072.0        1072.000000        1072.000000    1072.000000   \n",
       "mean      8.0          77.222015        3023.698798   15511.442789   \n",
       "std       0.0         112.120563       10025.369619   24355.464174   \n",
       "min       8.0           1.000000           1.000000       0.200000   \n",
       "25%       8.0           7.000000          67.750000    1949.902500   \n",
       "50%       8.0          30.000000         389.500000    6708.960000   \n",
       "75%       8.0         101.000000        1950.250000   18517.730000   \n",
       "max       8.0         677.000000      200160.000000  218121.650000   \n",
       "\n",
       "       PRODUCT_SCORE  \n",
       "count    1072.000000  \n",
       "mean        0.005454  \n",
       "std         0.009614  \n",
       "min         0.000000  \n",
       "25%         0.000235  \n",
       "50%         0.001433  \n",
       "75%         0.006099  \n",
       "max         0.064425  "
      ]
     },
     "metadata": {},
     "output_type": "display_data"
    },
    {
     "data": {
      "text/html": [
       "<hr/>"
      ],
      "text/plain": [
       "<IPython.core.display.HTML object>"
      ]
     },
     "metadata": {},
     "output_type": "display_data"
    },
    {
     "data": {
      "text/html": [
       "<H2>* PRODUCTOS MES 9:</H2>"
      ],
      "text/plain": [
       "<IPython.core.display.HTML object>"
      ]
     },
     "metadata": {},
     "output_type": "display_data"
    },
    {
     "data": {
      "text/html": [
       "<div>\n",
       "<style scoped>\n",
       "    .dataframe tbody tr th:only-of-type {\n",
       "        vertical-align: middle;\n",
       "    }\n",
       "\n",
       "    .dataframe tbody tr th {\n",
       "        vertical-align: top;\n",
       "    }\n",
       "\n",
       "    .dataframe thead th {\n",
       "        text-align: right;\n",
       "    }\n",
       "</style>\n",
       "<table border=\"1\" class=\"dataframe\">\n",
       "  <thead>\n",
       "    <tr style=\"text-align: right;\">\n",
       "      <th></th>\n",
       "      <th>MONTH</th>\n",
       "      <th>CANTIDAD_CLIENTES</th>\n",
       "      <th>UNIDADES_VENDIDAS</th>\n",
       "      <th>MONTO_TOTAL</th>\n",
       "      <th>PRODUCT_SCORE</th>\n",
       "    </tr>\n",
       "  </thead>\n",
       "  <tbody>\n",
       "    <tr>\n",
       "      <th>count</th>\n",
       "      <td>1117.0</td>\n",
       "      <td>1117.000000</td>\n",
       "      <td>1117.00000</td>\n",
       "      <td>1117.000000</td>\n",
       "      <td>1117.000000</td>\n",
       "    </tr>\n",
       "    <tr>\n",
       "      <th>mean</th>\n",
       "      <td>9.0</td>\n",
       "      <td>74.643688</td>\n",
       "      <td>2621.43842</td>\n",
       "      <td>13893.286876</td>\n",
       "      <td>0.004852</td>\n",
       "    </tr>\n",
       "    <tr>\n",
       "      <th>std</th>\n",
       "      <td>0.0</td>\n",
       "      <td>108.776341</td>\n",
       "      <td>7896.13183</td>\n",
       "      <td>25054.295224</td>\n",
       "      <td>0.008898</td>\n",
       "    </tr>\n",
       "    <tr>\n",
       "      <th>min</th>\n",
       "      <td>9.0</td>\n",
       "      <td>1.000000</td>\n",
       "      <td>1.00000</td>\n",
       "      <td>0.230000</td>\n",
       "      <td>0.000000</td>\n",
       "    </tr>\n",
       "    <tr>\n",
       "      <th>25%</th>\n",
       "      <td>9.0</td>\n",
       "      <td>8.000000</td>\n",
       "      <td>93.00000</td>\n",
       "      <td>1906.370000</td>\n",
       "      <td>0.000339</td>\n",
       "    </tr>\n",
       "    <tr>\n",
       "      <th>50%</th>\n",
       "      <td>9.0</td>\n",
       "      <td>31.000000</td>\n",
       "      <td>384.00000</td>\n",
       "      <td>5673.240000</td>\n",
       "      <td>0.001403</td>\n",
       "    </tr>\n",
       "    <tr>\n",
       "      <th>75%</th>\n",
       "      <td>9.0</td>\n",
       "      <td>88.000000</td>\n",
       "      <td>1642.00000</td>\n",
       "      <td>15571.310000</td>\n",
       "      <td>0.005262</td>\n",
       "    </tr>\n",
       "    <tr>\n",
       "      <th>max</th>\n",
       "      <td>9.0</td>\n",
       "      <td>857.000000</td>\n",
       "      <td>133080.00000</td>\n",
       "      <td>307282.880000</td>\n",
       "      <td>0.067557</td>\n",
       "    </tr>\n",
       "  </tbody>\n",
       "</table>\n",
       "</div>"
      ],
      "text/plain": [
       "        MONTH  CANTIDAD_CLIENTES  UNIDADES_VENDIDAS    MONTO_TOTAL  \\\n",
       "count  1117.0        1117.000000         1117.00000    1117.000000   \n",
       "mean      9.0          74.643688         2621.43842   13893.286876   \n",
       "std       0.0         108.776341         7896.13183   25054.295224   \n",
       "min       9.0           1.000000            1.00000       0.230000   \n",
       "25%       9.0           8.000000           93.00000    1906.370000   \n",
       "50%       9.0          31.000000          384.00000    5673.240000   \n",
       "75%       9.0          88.000000         1642.00000   15571.310000   \n",
       "max       9.0         857.000000       133080.00000  307282.880000   \n",
       "\n",
       "       PRODUCT_SCORE  \n",
       "count    1117.000000  \n",
       "mean        0.004852  \n",
       "std         0.008898  \n",
       "min         0.000000  \n",
       "25%         0.000339  \n",
       "50%         0.001403  \n",
       "75%         0.005262  \n",
       "max         0.067557  "
      ]
     },
     "metadata": {},
     "output_type": "display_data"
    },
    {
     "data": {
      "text/html": [
       "<hr/>"
      ],
      "text/plain": [
       "<IPython.core.display.HTML object>"
      ]
     },
     "metadata": {},
     "output_type": "display_data"
    },
    {
     "data": {
      "text/html": [
       "<H2>* PRODUCTOS MES 10:</H2>"
      ],
      "text/plain": [
       "<IPython.core.display.HTML object>"
      ]
     },
     "metadata": {},
     "output_type": "display_data"
    },
    {
     "data": {
      "text/html": [
       "<div>\n",
       "<style scoped>\n",
       "    .dataframe tbody tr th:only-of-type {\n",
       "        vertical-align: middle;\n",
       "    }\n",
       "\n",
       "    .dataframe tbody tr th {\n",
       "        vertical-align: top;\n",
       "    }\n",
       "\n",
       "    .dataframe thead th {\n",
       "        text-align: right;\n",
       "    }\n",
       "</style>\n",
       "<table border=\"1\" class=\"dataframe\">\n",
       "  <thead>\n",
       "    <tr style=\"text-align: right;\">\n",
       "      <th></th>\n",
       "      <th>MONTH</th>\n",
       "      <th>CANTIDAD_CLIENTES</th>\n",
       "      <th>UNIDADES_VENDIDAS</th>\n",
       "      <th>MONTO_TOTAL</th>\n",
       "      <th>PRODUCT_SCORE</th>\n",
       "    </tr>\n",
       "  </thead>\n",
       "  <tbody>\n",
       "    <tr>\n",
       "      <th>count</th>\n",
       "      <td>1168.0</td>\n",
       "      <td>1168.000000</td>\n",
       "      <td>1168.000000</td>\n",
       "      <td>1168.000000</td>\n",
       "      <td>1168.000000</td>\n",
       "    </tr>\n",
       "    <tr>\n",
       "      <th>mean</th>\n",
       "      <td>10.0</td>\n",
       "      <td>71.748288</td>\n",
       "      <td>3202.340088</td>\n",
       "      <td>20786.192543</td>\n",
       "      <td>0.005972</td>\n",
       "    </tr>\n",
       "    <tr>\n",
       "      <th>std</th>\n",
       "      <td>0.0</td>\n",
       "      <td>101.363024</td>\n",
       "      <td>9393.361875</td>\n",
       "      <td>48513.426892</td>\n",
       "      <td>0.010382</td>\n",
       "    </tr>\n",
       "    <tr>\n",
       "      <th>min</th>\n",
       "      <td>10.0</td>\n",
       "      <td>1.000000</td>\n",
       "      <td>1.000000</td>\n",
       "      <td>0.340000</td>\n",
       "      <td>0.000000</td>\n",
       "    </tr>\n",
       "    <tr>\n",
       "      <th>25%</th>\n",
       "      <td>10.0</td>\n",
       "      <td>8.000000</td>\n",
       "      <td>95.500000</td>\n",
       "      <td>2171.707500</td>\n",
       "      <td>0.000356</td>\n",
       "    </tr>\n",
       "    <tr>\n",
       "      <th>50%</th>\n",
       "      <td>10.0</td>\n",
       "      <td>29.500000</td>\n",
       "      <td>500.500000</td>\n",
       "      <td>7390.610000</td>\n",
       "      <td>0.001788</td>\n",
       "    </tr>\n",
       "    <tr>\n",
       "      <th>75%</th>\n",
       "      <td>10.0</td>\n",
       "      <td>91.000000</td>\n",
       "      <td>2274.000000</td>\n",
       "      <td>19649.635000</td>\n",
       "      <td>0.006189</td>\n",
       "    </tr>\n",
       "    <tr>\n",
       "      <th>max</th>\n",
       "      <td>10.0</td>\n",
       "      <td>610.000000</td>\n",
       "      <td>131730.000000</td>\n",
       "      <td>916499.890000</td>\n",
       "      <td>0.069045</td>\n",
       "    </tr>\n",
       "  </tbody>\n",
       "</table>\n",
       "</div>"
      ],
      "text/plain": [
       "        MONTH  CANTIDAD_CLIENTES  UNIDADES_VENDIDAS    MONTO_TOTAL  \\\n",
       "count  1168.0        1168.000000        1168.000000    1168.000000   \n",
       "mean     10.0          71.748288        3202.340088   20786.192543   \n",
       "std       0.0         101.363024        9393.361875   48513.426892   \n",
       "min      10.0           1.000000           1.000000       0.340000   \n",
       "25%      10.0           8.000000          95.500000    2171.707500   \n",
       "50%      10.0          29.500000         500.500000    7390.610000   \n",
       "75%      10.0          91.000000        2274.000000   19649.635000   \n",
       "max      10.0         610.000000      131730.000000  916499.890000   \n",
       "\n",
       "       PRODUCT_SCORE  \n",
       "count    1168.000000  \n",
       "mean        0.005972  \n",
       "std         0.010382  \n",
       "min         0.000000  \n",
       "25%         0.000356  \n",
       "50%         0.001788  \n",
       "75%         0.006189  \n",
       "max         0.069045  "
      ]
     },
     "metadata": {},
     "output_type": "display_data"
    },
    {
     "data": {
      "text/html": [
       "<hr/>"
      ],
      "text/plain": [
       "<IPython.core.display.HTML object>"
      ]
     },
     "metadata": {},
     "output_type": "display_data"
    },
    {
     "data": {
      "text/html": [
       "<H2>* PRODUCTOS MES 11:</H2>"
      ],
      "text/plain": [
       "<IPython.core.display.HTML object>"
      ]
     },
     "metadata": {},
     "output_type": "display_data"
    },
    {
     "data": {
      "text/html": [
       "<div>\n",
       "<style scoped>\n",
       "    .dataframe tbody tr th:only-of-type {\n",
       "        vertical-align: middle;\n",
       "    }\n",
       "\n",
       "    .dataframe tbody tr th {\n",
       "        vertical-align: top;\n",
       "    }\n",
       "\n",
       "    .dataframe thead th {\n",
       "        text-align: right;\n",
       "    }\n",
       "</style>\n",
       "<table border=\"1\" class=\"dataframe\">\n",
       "  <thead>\n",
       "    <tr style=\"text-align: right;\">\n",
       "      <th></th>\n",
       "      <th>MONTH</th>\n",
       "      <th>CANTIDAD_CLIENTES</th>\n",
       "      <th>UNIDADES_VENDIDAS</th>\n",
       "      <th>MONTO_TOTAL</th>\n",
       "      <th>PRODUCT_SCORE</th>\n",
       "    </tr>\n",
       "  </thead>\n",
       "  <tbody>\n",
       "    <tr>\n",
       "      <th>count</th>\n",
       "      <td>1152.0</td>\n",
       "      <td>1152.000000</td>\n",
       "      <td>1152.000000</td>\n",
       "      <td>1152.000000</td>\n",
       "      <td>1152.000000</td>\n",
       "    </tr>\n",
       "    <tr>\n",
       "      <th>mean</th>\n",
       "      <td>11.0</td>\n",
       "      <td>66.136285</td>\n",
       "      <td>2537.948688</td>\n",
       "      <td>15019.518863</td>\n",
       "      <td>0.004504</td>\n",
       "    </tr>\n",
       "    <tr>\n",
       "      <th>std</th>\n",
       "      <td>0.0</td>\n",
       "      <td>95.125385</td>\n",
       "      <td>9322.883988</td>\n",
       "      <td>31483.757411</td>\n",
       "      <td>0.008372</td>\n",
       "    </tr>\n",
       "    <tr>\n",
       "      <th>min</th>\n",
       "      <td>11.0</td>\n",
       "      <td>1.000000</td>\n",
       "      <td>1.000000</td>\n",
       "      <td>0.040000</td>\n",
       "      <td>0.000000</td>\n",
       "    </tr>\n",
       "    <tr>\n",
       "      <th>25%</th>\n",
       "      <td>11.0</td>\n",
       "      <td>8.000000</td>\n",
       "      <td>76.000000</td>\n",
       "      <td>1858.307500</td>\n",
       "      <td>0.000286</td>\n",
       "    </tr>\n",
       "    <tr>\n",
       "      <th>50%</th>\n",
       "      <td>11.0</td>\n",
       "      <td>29.000000</td>\n",
       "      <td>358.500000</td>\n",
       "      <td>5211.100000</td>\n",
       "      <td>0.001280</td>\n",
       "    </tr>\n",
       "    <tr>\n",
       "      <th>75%</th>\n",
       "      <td>11.0</td>\n",
       "      <td>83.000000</td>\n",
       "      <td>1485.000000</td>\n",
       "      <td>13873.362500</td>\n",
       "      <td>0.004565</td>\n",
       "    </tr>\n",
       "    <tr>\n",
       "      <th>max</th>\n",
       "      <td>11.0</td>\n",
       "      <td>851.000000</td>\n",
       "      <td>200880.000000</td>\n",
       "      <td>345195.870000</td>\n",
       "      <td>0.068727</td>\n",
       "    </tr>\n",
       "  </tbody>\n",
       "</table>\n",
       "</div>"
      ],
      "text/plain": [
       "        MONTH  CANTIDAD_CLIENTES  UNIDADES_VENDIDAS    MONTO_TOTAL  \\\n",
       "count  1152.0        1152.000000        1152.000000    1152.000000   \n",
       "mean     11.0          66.136285        2537.948688   15019.518863   \n",
       "std       0.0          95.125385        9322.883988   31483.757411   \n",
       "min      11.0           1.000000           1.000000       0.040000   \n",
       "25%      11.0           8.000000          76.000000    1858.307500   \n",
       "50%      11.0          29.000000         358.500000    5211.100000   \n",
       "75%      11.0          83.000000        1485.000000   13873.362500   \n",
       "max      11.0         851.000000      200880.000000  345195.870000   \n",
       "\n",
       "       PRODUCT_SCORE  \n",
       "count    1152.000000  \n",
       "mean        0.004504  \n",
       "std         0.008372  \n",
       "min         0.000000  \n",
       "25%         0.000286  \n",
       "50%         0.001280  \n",
       "75%         0.004565  \n",
       "max         0.068727  "
      ]
     },
     "metadata": {},
     "output_type": "display_data"
    },
    {
     "data": {
      "text/html": [
       "<hr/>"
      ],
      "text/plain": [
       "<IPython.core.display.HTML object>"
      ]
     },
     "metadata": {},
     "output_type": "display_data"
    },
    {
     "data": {
      "text/html": [
       "<H2>* PRODUCTOS MES 12:</H2>"
      ],
      "text/plain": [
       "<IPython.core.display.HTML object>"
      ]
     },
     "metadata": {},
     "output_type": "display_data"
    },
    {
     "data": {
      "text/html": [
       "<div>\n",
       "<style scoped>\n",
       "    .dataframe tbody tr th:only-of-type {\n",
       "        vertical-align: middle;\n",
       "    }\n",
       "\n",
       "    .dataframe tbody tr th {\n",
       "        vertical-align: top;\n",
       "    }\n",
       "\n",
       "    .dataframe thead th {\n",
       "        text-align: right;\n",
       "    }\n",
       "</style>\n",
       "<table border=\"1\" class=\"dataframe\">\n",
       "  <thead>\n",
       "    <tr style=\"text-align: right;\">\n",
       "      <th></th>\n",
       "      <th>MONTH</th>\n",
       "      <th>CANTIDAD_CLIENTES</th>\n",
       "      <th>UNIDADES_VENDIDAS</th>\n",
       "      <th>MONTO_TOTAL</th>\n",
       "      <th>PRODUCT_SCORE</th>\n",
       "    </tr>\n",
       "  </thead>\n",
       "  <tbody>\n",
       "    <tr>\n",
       "      <th>count</th>\n",
       "      <td>1090.0</td>\n",
       "      <td>1090.000000</td>\n",
       "      <td>1090.000000</td>\n",
       "      <td>1090.000000</td>\n",
       "      <td>1090.000000</td>\n",
       "    </tr>\n",
       "    <tr>\n",
       "      <th>mean</th>\n",
       "      <td>12.0</td>\n",
       "      <td>62.329358</td>\n",
       "      <td>2289.643848</td>\n",
       "      <td>14346.196339</td>\n",
       "      <td>0.004619</td>\n",
       "    </tr>\n",
       "    <tr>\n",
       "      <th>std</th>\n",
       "      <td>0.0</td>\n",
       "      <td>90.847751</td>\n",
       "      <td>6293.343912</td>\n",
       "      <td>23985.671953</td>\n",
       "      <td>0.008778</td>\n",
       "    </tr>\n",
       "    <tr>\n",
       "      <th>min</th>\n",
       "      <td>12.0</td>\n",
       "      <td>1.000000</td>\n",
       "      <td>1.000000</td>\n",
       "      <td>6.000000</td>\n",
       "      <td>0.000000</td>\n",
       "    </tr>\n",
       "    <tr>\n",
       "      <th>25%</th>\n",
       "      <td>12.0</td>\n",
       "      <td>8.000000</td>\n",
       "      <td>69.000000</td>\n",
       "      <td>1883.945000</td>\n",
       "      <td>0.000265</td>\n",
       "    </tr>\n",
       "    <tr>\n",
       "      <th>50%</th>\n",
       "      <td>12.0</td>\n",
       "      <td>27.000000</td>\n",
       "      <td>386.000000</td>\n",
       "      <td>6096.705000</td>\n",
       "      <td>0.001423</td>\n",
       "    </tr>\n",
       "    <tr>\n",
       "      <th>75%</th>\n",
       "      <td>12.0</td>\n",
       "      <td>78.000000</td>\n",
       "      <td>1510.000000</td>\n",
       "      <td>16023.755000</td>\n",
       "      <td>0.004559</td>\n",
       "    </tr>\n",
       "    <tr>\n",
       "      <th>max</th>\n",
       "      <td>12.0</td>\n",
       "      <td>844.000000</td>\n",
       "      <td>82080.000000</td>\n",
       "      <td>278731.700000</td>\n",
       "      <td>0.068071</td>\n",
       "    </tr>\n",
       "  </tbody>\n",
       "</table>\n",
       "</div>"
      ],
      "text/plain": [
       "        MONTH  CANTIDAD_CLIENTES  UNIDADES_VENDIDAS    MONTO_TOTAL  \\\n",
       "count  1090.0        1090.000000        1090.000000    1090.000000   \n",
       "mean     12.0          62.329358        2289.643848   14346.196339   \n",
       "std       0.0          90.847751        6293.343912   23985.671953   \n",
       "min      12.0           1.000000           1.000000       6.000000   \n",
       "25%      12.0           8.000000          69.000000    1883.945000   \n",
       "50%      12.0          27.000000         386.000000    6096.705000   \n",
       "75%      12.0          78.000000        1510.000000   16023.755000   \n",
       "max      12.0         844.000000       82080.000000  278731.700000   \n",
       "\n",
       "       PRODUCT_SCORE  \n",
       "count    1090.000000  \n",
       "mean        0.004619  \n",
       "std         0.008778  \n",
       "min         0.000000  \n",
       "25%         0.000265  \n",
       "50%         0.001423  \n",
       "75%         0.004559  \n",
       "max         0.068071  "
      ]
     },
     "metadata": {},
     "output_type": "display_data"
    },
    {
     "data": {
      "text/html": [
       "<hr/>"
      ],
      "text/plain": [
       "<IPython.core.display.HTML object>"
      ]
     },
     "metadata": {},
     "output_type": "display_data"
    }
   ],
   "source": [
    "for x in range(1, 13):\n",
    "  m = ppc_r1_df[ppc_r1_df['MONTH']==x]\n",
    "  pm = str(len(m))\n",
    "  display( HTML('<H2>* PRODUCTOS MES ' + str(x) + ':</H2>') )\n",
    "  display( m.describe() )  \n",
    "  display( HTML('<hr/>') )"
   ]
  },
  {
   "cell_type": "code",
   "execution_count": null,
   "metadata": {},
   "outputs": [],
   "source": []
  },
  {
   "cell_type": "markdown",
   "metadata": {},
   "source": [
    "# Generamos la tabla con los datos dispuestos para clusterizar"
   ]
  },
  {
   "cell_type": "code",
   "execution_count": 22,
   "metadata": {},
   "outputs": [
    {
     "data": {
      "text/html": [
       "<div>\n",
       "<style scoped>\n",
       "    .dataframe tbody tr th:only-of-type {\n",
       "        vertical-align: middle;\n",
       "    }\n",
       "\n",
       "    .dataframe tbody tr th {\n",
       "        vertical-align: top;\n",
       "    }\n",
       "\n",
       "    .dataframe thead th {\n",
       "        text-align: right;\n",
       "    }\n",
       "</style>\n",
       "<table border=\"1\" class=\"dataframe\">\n",
       "  <thead>\n",
       "    <tr style=\"text-align: right;\">\n",
       "      <th></th>\n",
       "      <th>CODIGO_CLIENTE</th>\n",
       "      <th>MONTH</th>\n",
       "      <th>CODIGO_ARTICULO</th>\n",
       "      <th>UNIDADES_VENDIDAS</th>\n",
       "    </tr>\n",
       "  </thead>\n",
       "  <tbody>\n",
       "    <tr>\n",
       "      <th>0</th>\n",
       "      <td>0024531e81828540871212e10c896d71</td>\n",
       "      <td>1</td>\n",
       "      <td>000-000-10161</td>\n",
       "      <td>24.0</td>\n",
       "    </tr>\n",
       "    <tr>\n",
       "      <th>1</th>\n",
       "      <td>0024531e81828540871212e10c896d71</td>\n",
       "      <td>1</td>\n",
       "      <td>000-000-10170</td>\n",
       "      <td>2.0</td>\n",
       "    </tr>\n",
       "    <tr>\n",
       "      <th>2</th>\n",
       "      <td>0024531e81828540871212e10c896d71</td>\n",
       "      <td>1</td>\n",
       "      <td>000-000-10204</td>\n",
       "      <td>7.0</td>\n",
       "    </tr>\n",
       "    <tr>\n",
       "      <th>3</th>\n",
       "      <td>0024531e81828540871212e10c896d71</td>\n",
       "      <td>1</td>\n",
       "      <td>000-000-10636</td>\n",
       "      <td>36.0</td>\n",
       "    </tr>\n",
       "    <tr>\n",
       "      <th>4</th>\n",
       "      <td>0024531e81828540871212e10c896d71</td>\n",
       "      <td>1</td>\n",
       "      <td>000-000-10637</td>\n",
       "      <td>18.0</td>\n",
       "    </tr>\n",
       "  </tbody>\n",
       "</table>\n",
       "</div>"
      ],
      "text/plain": [
       "                     CODIGO_CLIENTE  MONTH CODIGO_ARTICULO  UNIDADES_VENDIDAS\n",
       "0  0024531e81828540871212e10c896d71      1   000-000-10161               24.0\n",
       "1  0024531e81828540871212e10c896d71      1   000-000-10170                2.0\n",
       "2  0024531e81828540871212e10c896d71      1   000-000-10204                7.0\n",
       "3  0024531e81828540871212e10c896d71      1   000-000-10636               36.0\n",
       "4  0024531e81828540871212e10c896d71      1   000-000-10637               18.0"
      ]
     },
     "execution_count": 22,
     "metadata": {},
     "output_type": "execute_result"
    }
   ],
   "source": [
    "ppc_c_df = ( data_df[['CODIGO_CLIENTE', 'MONTH', 'CODIGO_ARTICULO', 'CANTIDAD']]\n",
    "        .groupby(['CODIGO_CLIENTE', 'MONTH', 'CODIGO_ARTICULO'])\n",
    "        .agg({ 'CANTIDAD': 'sum'})\n",
    "        .reset_index()\n",
    "        .rename(columns={'CANTIDAD':'UNIDADES_VENDIDAS'})\n",
    "    )   \n",
    "ppc_c_df.head()"
   ]
  },
  {
   "cell_type": "code",
   "execution_count": 23,
   "metadata": {},
   "outputs": [],
   "source": [
    "# Ok, ahora obtenemos cantidades de productos por clientes en una matriz\n",
    "ppcp_df = ppc_c_df.pivot_table(index='CODIGO_CLIENTE', columns=['CODIGO_ARTICULO', 'MONTH'], values='UNIDADES_VENDIDAS').fillna(0)"
   ]
  },
  {
   "cell_type": "code",
   "execution_count": 24,
   "metadata": {},
   "outputs": [
    {
     "data": {
      "text/plain": [
       "(2443, 12807)"
      ]
     },
     "execution_count": 24,
     "metadata": {},
     "output_type": "execute_result"
    }
   ],
   "source": [
    "ppcp_df.shape"
   ]
  },
  {
   "cell_type": "code",
   "execution_count": 25,
   "metadata": {},
   "outputs": [
    {
     "data": {
      "text/html": [
       "<div>\n",
       "<style scoped>\n",
       "    .dataframe tbody tr th:only-of-type {\n",
       "        vertical-align: middle;\n",
       "    }\n",
       "\n",
       "    .dataframe tbody tr th {\n",
       "        vertical-align: top;\n",
       "    }\n",
       "\n",
       "    .dataframe thead tr th {\n",
       "        text-align: left;\n",
       "    }\n",
       "\n",
       "    .dataframe thead tr:last-of-type th {\n",
       "        text-align: right;\n",
       "    }\n",
       "</style>\n",
       "<table border=\"1\" class=\"dataframe\">\n",
       "  <thead>\n",
       "    <tr>\n",
       "      <th>CODIGO_ARTICULO</th>\n",
       "      <th colspan=\"9\" halign=\"left\">000-000-0236</th>\n",
       "      <th>000-000-0241</th>\n",
       "      <th>...</th>\n",
       "      <th colspan=\"2\" halign=\"left\">000-999-c11857</th>\n",
       "      <th colspan=\"3\" halign=\"left\">000-999-c3436</th>\n",
       "      <th colspan=\"3\" halign=\"left\">000-999-c3747</th>\n",
       "      <th>000-999-d4532</th>\n",
       "      <th>000-999-d5883</th>\n",
       "    </tr>\n",
       "    <tr>\n",
       "      <th>MONTH</th>\n",
       "      <th>1</th>\n",
       "      <th>2</th>\n",
       "      <th>3</th>\n",
       "      <th>4</th>\n",
       "      <th>5</th>\n",
       "      <th>6</th>\n",
       "      <th>7</th>\n",
       "      <th>8</th>\n",
       "      <th>9</th>\n",
       "      <th>1</th>\n",
       "      <th>...</th>\n",
       "      <th>10</th>\n",
       "      <th>11</th>\n",
       "      <th>8</th>\n",
       "      <th>9</th>\n",
       "      <th>10</th>\n",
       "      <th>9</th>\n",
       "      <th>10</th>\n",
       "      <th>11</th>\n",
       "      <th>4</th>\n",
       "      <th>4</th>\n",
       "    </tr>\n",
       "    <tr>\n",
       "      <th>CODIGO_CLIENTE</th>\n",
       "      <th></th>\n",
       "      <th></th>\n",
       "      <th></th>\n",
       "      <th></th>\n",
       "      <th></th>\n",
       "      <th></th>\n",
       "      <th></th>\n",
       "      <th></th>\n",
       "      <th></th>\n",
       "      <th></th>\n",
       "      <th></th>\n",
       "      <th></th>\n",
       "      <th></th>\n",
       "      <th></th>\n",
       "      <th></th>\n",
       "      <th></th>\n",
       "      <th></th>\n",
       "      <th></th>\n",
       "      <th></th>\n",
       "      <th></th>\n",
       "      <th></th>\n",
       "    </tr>\n",
       "  </thead>\n",
       "  <tbody>\n",
       "    <tr>\n",
       "      <th>0024531e81828540871212e10c896d71</th>\n",
       "      <td>0.0</td>\n",
       "      <td>0.0</td>\n",
       "      <td>0.0</td>\n",
       "      <td>0.0</td>\n",
       "      <td>0.0</td>\n",
       "      <td>0.0</td>\n",
       "      <td>0.0</td>\n",
       "      <td>0.0</td>\n",
       "      <td>0.0</td>\n",
       "      <td>0.0</td>\n",
       "      <td>...</td>\n",
       "      <td>0.0</td>\n",
       "      <td>0.0</td>\n",
       "      <td>0.0</td>\n",
       "      <td>0.0</td>\n",
       "      <td>0.0</td>\n",
       "      <td>0.0</td>\n",
       "      <td>0.0</td>\n",
       "      <td>0.0</td>\n",
       "      <td>0.0</td>\n",
       "      <td>0.0</td>\n",
       "    </tr>\n",
       "    <tr>\n",
       "      <th>003c44afe6e90ba8848dfd2bdd92c03f</th>\n",
       "      <td>0.0</td>\n",
       "      <td>0.0</td>\n",
       "      <td>0.0</td>\n",
       "      <td>0.0</td>\n",
       "      <td>0.0</td>\n",
       "      <td>0.0</td>\n",
       "      <td>0.0</td>\n",
       "      <td>0.0</td>\n",
       "      <td>0.0</td>\n",
       "      <td>0.0</td>\n",
       "      <td>...</td>\n",
       "      <td>0.0</td>\n",
       "      <td>0.0</td>\n",
       "      <td>0.0</td>\n",
       "      <td>0.0</td>\n",
       "      <td>0.0</td>\n",
       "      <td>0.0</td>\n",
       "      <td>0.0</td>\n",
       "      <td>0.0</td>\n",
       "      <td>0.0</td>\n",
       "      <td>0.0</td>\n",
       "    </tr>\n",
       "    <tr>\n",
       "      <th>004a4de5dd7ab3c72b8f86fe635bb9b8</th>\n",
       "      <td>0.0</td>\n",
       "      <td>0.0</td>\n",
       "      <td>0.0</td>\n",
       "      <td>0.0</td>\n",
       "      <td>0.0</td>\n",
       "      <td>0.0</td>\n",
       "      <td>0.0</td>\n",
       "      <td>0.0</td>\n",
       "      <td>0.0</td>\n",
       "      <td>0.0</td>\n",
       "      <td>...</td>\n",
       "      <td>0.0</td>\n",
       "      <td>0.0</td>\n",
       "      <td>0.0</td>\n",
       "      <td>0.0</td>\n",
       "      <td>0.0</td>\n",
       "      <td>0.0</td>\n",
       "      <td>0.0</td>\n",
       "      <td>0.0</td>\n",
       "      <td>0.0</td>\n",
       "      <td>0.0</td>\n",
       "    </tr>\n",
       "    <tr>\n",
       "      <th>00a1e834d044753f4e47964143a5e904</th>\n",
       "      <td>0.0</td>\n",
       "      <td>0.0</td>\n",
       "      <td>0.0</td>\n",
       "      <td>0.0</td>\n",
       "      <td>0.0</td>\n",
       "      <td>0.0</td>\n",
       "      <td>0.0</td>\n",
       "      <td>0.0</td>\n",
       "      <td>0.0</td>\n",
       "      <td>0.0</td>\n",
       "      <td>...</td>\n",
       "      <td>0.0</td>\n",
       "      <td>0.0</td>\n",
       "      <td>0.0</td>\n",
       "      <td>0.0</td>\n",
       "      <td>0.0</td>\n",
       "      <td>0.0</td>\n",
       "      <td>0.0</td>\n",
       "      <td>0.0</td>\n",
       "      <td>0.0</td>\n",
       "      <td>0.0</td>\n",
       "    </tr>\n",
       "    <tr>\n",
       "      <th>00bb302b07a498a606e061579e962c45</th>\n",
       "      <td>0.0</td>\n",
       "      <td>0.0</td>\n",
       "      <td>0.0</td>\n",
       "      <td>0.0</td>\n",
       "      <td>0.0</td>\n",
       "      <td>0.0</td>\n",
       "      <td>0.0</td>\n",
       "      <td>0.0</td>\n",
       "      <td>0.0</td>\n",
       "      <td>0.0</td>\n",
       "      <td>...</td>\n",
       "      <td>0.0</td>\n",
       "      <td>0.0</td>\n",
       "      <td>0.0</td>\n",
       "      <td>0.0</td>\n",
       "      <td>0.0</td>\n",
       "      <td>0.0</td>\n",
       "      <td>0.0</td>\n",
       "      <td>0.0</td>\n",
       "      <td>0.0</td>\n",
       "      <td>0.0</td>\n",
       "    </tr>\n",
       "  </tbody>\n",
       "</table>\n",
       "<p>5 rows × 12807 columns</p>\n",
       "</div>"
      ],
      "text/plain": [
       "CODIGO_ARTICULO                  000-000-0236                                \\\n",
       "MONTH                                      1    2    3    4    5    6    7    \n",
       "CODIGO_CLIENTE                                                                \n",
       "0024531e81828540871212e10c896d71          0.0  0.0  0.0  0.0  0.0  0.0  0.0   \n",
       "003c44afe6e90ba8848dfd2bdd92c03f          0.0  0.0  0.0  0.0  0.0  0.0  0.0   \n",
       "004a4de5dd7ab3c72b8f86fe635bb9b8          0.0  0.0  0.0  0.0  0.0  0.0  0.0   \n",
       "00a1e834d044753f4e47964143a5e904          0.0  0.0  0.0  0.0  0.0  0.0  0.0   \n",
       "00bb302b07a498a606e061579e962c45          0.0  0.0  0.0  0.0  0.0  0.0  0.0   \n",
       "\n",
       "CODIGO_ARTICULO                            000-000-0241      ...       \\\n",
       "MONTH                              8    9            1       ...        \n",
       "CODIGO_CLIENTE                                               ...        \n",
       "0024531e81828540871212e10c896d71  0.0  0.0          0.0      ...        \n",
       "003c44afe6e90ba8848dfd2bdd92c03f  0.0  0.0          0.0      ...        \n",
       "004a4de5dd7ab3c72b8f86fe635bb9b8  0.0  0.0          0.0      ...        \n",
       "00a1e834d044753f4e47964143a5e904  0.0  0.0          0.0      ...        \n",
       "00bb302b07a498a606e061579e962c45  0.0  0.0          0.0      ...        \n",
       "\n",
       "CODIGO_ARTICULO                  000-999-c11857      000-999-c3436            \\\n",
       "MONTH                                        10   11            8    9    10   \n",
       "CODIGO_CLIENTE                                                                 \n",
       "0024531e81828540871212e10c896d71            0.0  0.0           0.0  0.0  0.0   \n",
       "003c44afe6e90ba8848dfd2bdd92c03f            0.0  0.0           0.0  0.0  0.0   \n",
       "004a4de5dd7ab3c72b8f86fe635bb9b8            0.0  0.0           0.0  0.0  0.0   \n",
       "00a1e834d044753f4e47964143a5e904            0.0  0.0           0.0  0.0  0.0   \n",
       "00bb302b07a498a606e061579e962c45            0.0  0.0           0.0  0.0  0.0   \n",
       "\n",
       "CODIGO_ARTICULO                  000-999-c3747           000-999-d4532  \\\n",
       "MONTH                                       9    10   11            4    \n",
       "CODIGO_CLIENTE                                                           \n",
       "0024531e81828540871212e10c896d71           0.0  0.0  0.0           0.0   \n",
       "003c44afe6e90ba8848dfd2bdd92c03f           0.0  0.0  0.0           0.0   \n",
       "004a4de5dd7ab3c72b8f86fe635bb9b8           0.0  0.0  0.0           0.0   \n",
       "00a1e834d044753f4e47964143a5e904           0.0  0.0  0.0           0.0   \n",
       "00bb302b07a498a606e061579e962c45           0.0  0.0  0.0           0.0   \n",
       "\n",
       "CODIGO_ARTICULO                  000-999-d5883  \n",
       "MONTH                                       4   \n",
       "CODIGO_CLIENTE                                  \n",
       "0024531e81828540871212e10c896d71           0.0  \n",
       "003c44afe6e90ba8848dfd2bdd92c03f           0.0  \n",
       "004a4de5dd7ab3c72b8f86fe635bb9b8           0.0  \n",
       "00a1e834d044753f4e47964143a5e904           0.0  \n",
       "00bb302b07a498a606e061579e962c45           0.0  \n",
       "\n",
       "[5 rows x 12807 columns]"
      ]
     },
     "execution_count": 25,
     "metadata": {},
     "output_type": "execute_result"
    }
   ],
   "source": [
    "ppcp_df.head()"
   ]
  },
  {
   "cell_type": "code",
   "execution_count": 26,
   "metadata": {},
   "outputs": [],
   "source": [
    "# Normalizamos los datos:\n",
    "\n",
    "# Normalizacion Min-Max:\n",
    "#ppcp_norm=(ppcp_df-ppcp_df.min())/(ppcp_df.max()-ppcp_df.min())\n",
    "\n",
    "# Los datos resultantes presentan diferencias muy grandes. Probaremos la normalizacion logarítmica.\n",
    "\n",
    "# Normalizacion Logarítmica\n",
    "ppcp_log_norm = np.log((1+ppcp_df)/2)"
   ]
  },
  {
   "cell_type": "code",
   "execution_count": 27,
   "metadata": {},
   "outputs": [],
   "source": [
    "#ppcp_log_norm.describe()"
   ]
  },
  {
   "cell_type": "code",
   "execution_count": 28,
   "metadata": {},
   "outputs": [
    {
     "data": {
      "image/png": "[encoded data removed]",
      "text/plain": [
       "<matplotlib.figure.Figure at 0x7ff9f73b87f0>"
      ]
     },
     "metadata": {},
     "output_type": "display_data"
    }
   ],
   "source": [
    "# Clusterizamos los clientes segun la similaridad de los productos que compran\n",
    "plt.clf()\n",
    "clusterClientes = KElbowVisualizer(KMeans(), k=(2,25), metric='silhouette')\n",
    "clusterClientes.fit(ppcp_log_norm)\n",
    "clusterClientes.poof()\n",
    "plt.show()"
   ]
  },
  {
   "cell_type": "code",
   "execution_count": 29,
   "metadata": {},
   "outputs": [
    {
     "data": {
      "image/png": "[encoded data removed]",
      "text/plain": [
       "<matplotlib.figure.Figure at 0x7ff9f74490f0>"
      ]
     },
     "metadata": {},
     "output_type": "display_data"
    }
   ],
   "source": [
    "num_clusters = 19\n",
    "\n",
    "# Ejecutamos la clusterización por la cantidad de clusters seleccionada:\n",
    "np.random.seed(0)\n",
    "ppcp_kmeans = KMeans(n_clusters=num_clusters)\n",
    "#ppcp_df['CLUSTER'] = ppcp_kmeans.fit_predict(ppcp_norm)\n",
    "ppcp_clusters = ppcp_kmeans.fit_predict(ppcp_log_norm)\n",
    "\n",
    "pd.DataFrame(ppcp_clusters).hist()\n",
    "plt.show()"
   ]
  },
  {
   "cell_type": "code",
   "execution_count": 30,
   "metadata": {},
   "outputs": [
    {
     "data": {
      "text/plain": [
       "'* Cantidad de clientes del CLUSTER 0: 10'"
      ]
     },
     "metadata": {},
     "output_type": "display_data"
    },
    {
     "data": {
      "text/plain": [
       "'* Cantidad de clientes del CLUSTER 1: 116'"
      ]
     },
     "metadata": {},
     "output_type": "display_data"
    },
    {
     "data": {
      "text/plain": [
       "'* Cantidad de clientes del CLUSTER 2: 112'"
      ]
     },
     "metadata": {},
     "output_type": "display_data"
    },
    {
     "data": {
      "text/plain": [
       "'* Cantidad de clientes del CLUSTER 3: 1'"
      ]
     },
     "metadata": {},
     "output_type": "display_data"
    },
    {
     "data": {
      "text/plain": [
       "'* Cantidad de clientes del CLUSTER 4: 1'"
      ]
     },
     "metadata": {},
     "output_type": "display_data"
    },
    {
     "data": {
      "text/plain": [
       "'* Cantidad de clientes del CLUSTER 5: 7'"
      ]
     },
     "metadata": {},
     "output_type": "display_data"
    },
    {
     "data": {
      "text/plain": [
       "'* Cantidad de clientes del CLUSTER 6: 39'"
      ]
     },
     "metadata": {},
     "output_type": "display_data"
    },
    {
     "data": {
      "text/plain": [
       "'* Cantidad de clientes del CLUSTER 7: 5'"
      ]
     },
     "metadata": {},
     "output_type": "display_data"
    },
    {
     "data": {
      "text/plain": [
       "'* Cantidad de clientes del CLUSTER 8: 2'"
      ]
     },
     "metadata": {},
     "output_type": "display_data"
    },
    {
     "data": {
      "text/plain": [
       "'* Cantidad de clientes del CLUSTER 9: 3'"
      ]
     },
     "metadata": {},
     "output_type": "display_data"
    },
    {
     "data": {
      "text/plain": [
       "'* Cantidad de clientes del CLUSTER 10: 313'"
      ]
     },
     "metadata": {},
     "output_type": "display_data"
    },
    {
     "data": {
      "text/plain": [
       "'* Cantidad de clientes del CLUSTER 11: 48'"
      ]
     },
     "metadata": {},
     "output_type": "display_data"
    },
    {
     "data": {
      "text/plain": [
       "'* Cantidad de clientes del CLUSTER 12: 1'"
      ]
     },
     "metadata": {},
     "output_type": "display_data"
    },
    {
     "data": {
      "text/plain": [
       "'* Cantidad de clientes del CLUSTER 13: 1'"
      ]
     },
     "metadata": {},
     "output_type": "display_data"
    },
    {
     "data": {
      "text/plain": [
       "'* Cantidad de clientes del CLUSTER 14: 117'"
      ]
     },
     "metadata": {},
     "output_type": "display_data"
    },
    {
     "data": {
      "text/plain": [
       "'* Cantidad de clientes del CLUSTER 15: 590'"
      ]
     },
     "metadata": {},
     "output_type": "display_data"
    },
    {
     "data": {
      "text/plain": [
       "'* Cantidad de clientes del CLUSTER 16: 4'"
      ]
     },
     "metadata": {},
     "output_type": "display_data"
    },
    {
     "data": {
      "text/plain": [
       "'* Cantidad de clientes del CLUSTER 17: 1'"
      ]
     },
     "metadata": {},
     "output_type": "display_data"
    },
    {
     "data": {
      "text/plain": [
       "'* Cantidad de clientes del CLUSTER 18: 1072'"
      ]
     },
     "metadata": {},
     "output_type": "display_data"
    }
   ],
   "source": [
    "unique, counts = np.unique(ppcp_clusters, return_counts=True)\n",
    "\n",
    "for index in range(0, len(unique)):\n",
    "    display( '* Cantidad de clientes del CLUSTER '+str(index)+': ' + str( counts[index]))"
   ]
  },
  {
   "cell_type": "code",
   "execution_count": null,
   "metadata": {},
   "outputs": [],
   "source": []
  },
  {
   "cell_type": "markdown",
   "metadata": {},
   "source": [
    "Se generaron grupos pero estan desbalanceados. Veremos de reducir la dimensionalidad y reintentaremos a ver que sucede."
   ]
  },
  {
   "cell_type": "code",
   "execution_count": 31,
   "metadata": {},
   "outputs": [],
   "source": [
    "ppcp_log_norm.to_csv('ppcp_log_norm.csv')"
   ]
  },
  {
   "cell_type": "markdown",
   "metadata": {},
   "source": [
    "# 2 - Incorporar un embedding como preproceso a los datos:"
   ]
  },
  {
   "cell_type": "markdown",
   "metadata": {},
   "source": [
    "Intentaremos hacer una reducción de dimensionalidad mediante PCA:\n"
   ]
  },
  {
   "cell_type": "code",
   "execution_count": 2,
   "metadata": {},
   "outputs": [],
   "source": [
    "ppcp_log_norm = pd.read_csv('ppcp_log_norm.csv')"
   ]
  },
  {
   "cell_type": "code",
   "execution_count": 3,
   "metadata": {},
   "outputs": [
    {
     "ename": "NameError",
     "evalue": "name 'display' is not defined",
     "output_type": "error",
     "traceback": [
      "\u001b[0;31m---------------------------------------------------------------------------\u001b[0m",
      "\u001b[0;31mNameError\u001b[0m                                 Traceback (most recent call last)",
      "\u001b[0;32m<ipython-input-3-cdeaae9365c4>\u001b[0m in \u001b[0;36m<module>\u001b[0;34m()\u001b[0m\n\u001b[1;32m      2\u001b[0m \u001b[0mdf_corr\u001b[0m \u001b[0;34m=\u001b[0m \u001b[0mppcp_log_norm\u001b[0m\u001b[0;34m.\u001b[0m\u001b[0mcorr\u001b[0m\u001b[0;34m(\u001b[0m\u001b[0;34m)\u001b[0m\u001b[0;34m\u001b[0m\u001b[0m\n\u001b[1;32m      3\u001b[0m \u001b[0;34m\u001b[0m\u001b[0m\n\u001b[0;32m----> 4\u001b[0;31m \u001b[0mdisplay\u001b[0m\u001b[0;34m(\u001b[0m\u001b[0mdf_corr\u001b[0m\u001b[0;34m.\u001b[0m\u001b[0mhead\u001b[0m\u001b[0;34m(\u001b[0m\u001b[0;34m)\u001b[0m\u001b[0;34m)\u001b[0m\u001b[0;34m\u001b[0m\u001b[0m\n\u001b[0m\u001b[1;32m      5\u001b[0m \u001b[0mdisplay\u001b[0m\u001b[0;34m(\u001b[0m\u001b[0mdf_corr\u001b[0m\u001b[0;34m.\u001b[0m\u001b[0mtail\u001b[0m\u001b[0;34m(\u001b[0m\u001b[0;34m)\u001b[0m\u001b[0;34m)\u001b[0m\u001b[0;34m\u001b[0m\u001b[0m\n",
      "\u001b[0;31mNameError\u001b[0m: name 'display' is not defined"
     ]
    }
   ],
   "source": [
    "from IPython.display import display, HTML\n",
    "# Primero obtenemos la matriz de correlacion \n",
    "df_corr = ppcp_log_norm.corr()\n",
    "\n",
    "display(df_corr.head())\n",
    "display(df_corr.tail())"
   ]
  },
  {
   "cell_type": "code",
   "execution_count": null,
   "metadata": {},
   "outputs": [],
   "source": [
    "# Lo vemos en el gráfico:\n",
    "plt.title('Heatmap Correlation - Original',fontsize=15)\n",
    "plt.imshow(df_corr, cmap=plt.cm.get_cmap(\"YlGnBu\"), interpolation=\"nearest\")\n",
    "plt.colorbar()\n",
    "plt.show()"
   ]
  },
  {
   "cell_type": "code",
   "execution_count": null,
   "metadata": {},
   "outputs": [],
   "source": []
  },
  {
   "cell_type": "markdown",
   "metadata": {},
   "source": [
    "## Revisión 1: Obtener la cantidad de features indicando el porcentaje de varianza"
   ]
  },
  {
   "cell_type": "code",
   "execution_count": null,
   "metadata": {},
   "outputs": [],
   "source": [
    "# Aqui podemos ver que algunas features tiene mucha correlacion entre si\n",
    "# Por lo que vamos a aplicar una técnica de embedding, PCA (Principal component analisis)\n",
    "from sklearn.decomposition import PCA\n",
    "import matplotlib.pyplot as plt\n",
    "import numpy as np\n",
    "\n",
    "pca = PCA(.99)\n",
    "pca.fit(ppcp_log_norm)\n",
    "df_reduced_99_pca = pca.transform(ppcp_log_norm)"
   ]
  },
  {
   "cell_type": "code",
   "execution_count": null,
   "metadata": {},
   "outputs": [],
   "source": [
    "# Vamos a volver a generar otro mapa de calor, par ver si la correlacion bajo y el PCA fue efectivo.\n",
    "df_red_99 =  pd.DataFrame(data=df_reduced_99_pca, columns=range(df_reduced_99_pca.shape[1]))\n",
    "#Generamos un nuevo mapa de calor para ver corroborar que la correlacion entre columnas es baja!\n",
    "df_red_99_corr = df_red_99.corr()\n",
    "# Lo vemos en el gráfico:\n",
    "plt.title('Heatmap Correlation - PCA',fontsize=15)\n",
    "plt.imshow(df_red_99_corr, cmap=plt.cm.get_cmap(\"YlGnBu\"), interpolation=\"nearest\")\n",
    "plt.colorbar()\n",
    "plt.show()"
   ]
  },
  {
   "cell_type": "code",
   "execution_count": null,
   "metadata": {},
   "outputs": [],
   "source": [
    "# Obtenemos la cantidad de features que mantienen el 99% de la información\n",
    "HTML(str(df_red_99.shape[1]) + ' features')"
   ]
  },
  {
   "cell_type": "code",
   "execution_count": null,
   "metadata": {},
   "outputs": [],
   "source": []
  },
  {
   "cell_type": "markdown",
   "metadata": {},
   "source": [
    "## Revisión 2: Obtener la cantidad de features analizando la relación de varianza"
   ]
  },
  {
   "cell_type": "code",
   "execution_count": null,
   "metadata": {},
   "outputs": [],
   "source": [
    "# Detección de cantida de features minima que nos dé la mayor varianza\n",
    "from sklearn.decomposition import PCA\n",
    "import matplotlib.pyplot as plt\n",
    "\n",
    "# Entrenamos con todos los features\n",
    "n_features = ppcp_log_norm.shape[0]\n",
    "\n",
    "covar_matrix = PCA(n_components = n_features) \n",
    "covar_matrix.fit(ppcp_log_norm)\n",
    "variance = covar_matrix.explained_variance_ratio_ #calculate variance ratios\n",
    "\n",
    "var=np.cumsum(np.round(covar_matrix.explained_variance_ratio_, decimals=3)*100)\n",
    "var # cumulative sum of variance explained with [n] features\n"
   ]
  },
  {
   "cell_type": "code",
   "execution_count": null,
   "metadata": {},
   "outputs": [],
   "source": [
    "# Visualizamos en un grafico:\n",
    "plt.ylabel('% Variance Explained')\n",
    "plt.xlabel('# of Features')\n",
    "plt.title('PCA Analysis')\n",
    "plt.plot(var)\n",
    "plt.show()"
   ]
  },
  {
   "cell_type": "code",
   "execution_count": null,
   "metadata": {},
   "outputs": [],
   "source": [
    "# El valor de corte está entre los 370 y 380 feature. Analizamos mas de cerca para ver el punto de corte.\n",
    "plt.ylabel('% Variance Explained')\n",
    "plt.xlabel('# of Features')\n",
    "plt.title('PCA Analysis')\n",
    "\n",
    "plt.plot(var[370:380])\n",
    "plt.show()"
   ]
  },
  {
   "cell_type": "markdown",
   "metadata": {},
   "source": [
    "La gráfica nos muestra que luego de 375 features no mejora la variance. Tomamos esa cantidad para entrenar PCA."
   ]
  },
  {
   "cell_type": "code",
   "execution_count": null,
   "metadata": {},
   "outputs": [],
   "source": [
    "# Aqui podemos ver que algunas features tiene mucha correlacion entre si\n",
    "# Por lo que vamos a aplicar una técnica de embedding, PCA (Principal component analisis)\n",
    "from sklearn.decomposition import PCA\n",
    "import matplotlib.pyplot as plt\n",
    "import numpy as np\n",
    "\n",
    "pca = PCA(n_components=375)\n",
    "pca.fit(ppcp_log_norm)\n",
    "df_reduced_pca = pca.transform(ppcp_log_norm)\n",
    "# Vamos a volver a generar otro mapa de calor, par ver si la correlacion bajo y el PCA fue efectivo. 1677679\n",
    "df_red =  pd.DataFrame(data=df_reduced_pca, columns=range(df_reduced_pca.shape[1]))"
   ]
  },
  {
   "cell_type": "code",
   "execution_count": null,
   "metadata": {},
   "outputs": [],
   "source": [
    "display(df_red.head())\n",
    "display(df_red.tail())"
   ]
  },
  {
   "cell_type": "code",
   "execution_count": null,
   "metadata": {},
   "outputs": [],
   "source": [
    "#Generamos un nuevo mapa de calor para ver corroborar que la correlacion entre columnas es baja!\n",
    "# y efectivamente este metodo nos ayudo a reducir dimencionalidad sin tanta perdida de informacion\n",
    "# ya que ahora estamos en otro espacio, sin tanta perdida de informacion\n",
    "df_red_corr = df_red.corr()\n",
    "\n",
    "# Lo vemos en el gráfico:\n",
    "plt.title('Heatmap Correlation - PCA',fontsize=15)\n",
    "plt.imshow(df_red_corr, cmap=plt.cm.get_cmap(\"YlGnBu\"), interpolation=\"nearest\")\n",
    "#plt.imshow(df_corr, cmap=plt.cm.get_cmap(\"Reds\"), interpolation=\"nearest\")\n",
    "plt.colorbar()\n",
    "plt.show()"
   ]
  },
  {
   "cell_type": "code",
   "execution_count": null,
   "metadata": {},
   "outputs": [],
   "source": [
    "HTML(str(df_red.shape[1]) + ' features')"
   ]
  },
  {
   "cell_type": "code",
   "execution_count": null,
   "metadata": {},
   "outputs": [],
   "source": []
  },
  {
   "cell_type": "markdown",
   "metadata": {},
   "source": [
    "## Clusterizamos el resultado:\n",
    "Trabajamos ahora con las columnas detectadas y reclusterizamos para ver si mejora la distribución:"
   ]
  },
  {
   "cell_type": "code",
   "execution_count": null,
   "metadata": {},
   "outputs": [],
   "source": [
    "# Clusterizamos los clientes segun la similaridad de los productos que compran\n",
    "plt.clf()\n",
    "clusterClientes = KElbowVisualizer(KMeans(), k=(2,25), metric='silhouette')\n",
    "clusterClientes.fit(df_red)\n",
    "clusterClientes.poof()\n",
    "plt.show()"
   ]
  },
  {
   "cell_type": "markdown",
   "metadata": {},
   "source": [
    "Ok, probamos con 22 clusters:"
   ]
  },
  {
   "cell_type": "code",
   "execution_count": null,
   "metadata": {},
   "outputs": [],
   "source": []
  },
  {
   "cell_type": "code",
   "execution_count": null,
   "metadata": {},
   "outputs": [],
   "source": [
    "num_clusters = 22\n",
    "\n",
    "# Ejecutamos la clusterización por la cantidad de clusters seleccionada:\n",
    "np.random.seed(0)\n",
    "ppcp_kmeans = KMeans(n_clusters=num_clusters)\n",
    "\n",
    "ppcp_clusters = ppcp_kmeans.fit_predict(df_red)\n",
    "\n",
    "pd.DataFrame(ppcp_clusters).hist()\n",
    "plt.show()\n"
   ]
  },
  {
   "cell_type": "code",
   "execution_count": null,
   "metadata": {},
   "outputs": [],
   "source": []
  },
  {
   "cell_type": "code",
   "execution_count": null,
   "metadata": {},
   "outputs": [],
   "source": [
    "unique, counts = np.unique(ppcp_clusters, return_counts=True)\n",
    "\n",
    "for index in range(0, len(unique)):\n",
    "    display( '* Cantidad de clientes del CLUSTER '+str(index)+': ' + str( counts[index]))"
   ]
  },
  {
   "cell_type": "markdown",
   "metadata": {},
   "source": [
    "Se observa que los valores de distribución son parecidos al primer cluster. A continuacion probaremos poner algunas metricas de evaluacion basadas en testigos. "
   ]
  },
  {
   "cell_type": "code",
   "execution_count": null,
   "metadata": {},
   "outputs": [],
   "source": []
  },
  {
   "cell_type": "markdown",
   "metadata": {},
   "source": [
    "# 3 - Proponer métricas de evaluación de soluciones de clustering basadas en testigos:"
   ]
  },
  {
   "cell_type": "code",
   "execution_count": null,
   "metadata": {},
   "outputs": [],
   "source": [
    "# Esto si podes fijate vos."
   ]
  },
  {
   "cell_type": "code",
   "execution_count": null,
   "metadata": {},
   "outputs": [],
   "source": []
  },
  {
   "cell_type": "code",
   "execution_count": null,
   "metadata": {},
   "outputs": [],
   "source": []
  },
  {
   "cell_type": "markdown",
   "metadata": {},
   "source": [
    "# 4 - Proponga alguna forma de obtener una muestra de los elementos de un cluster que sean cercanos al centroide:"
   ]
  },
  {
   "cell_type": "code",
   "execution_count": null,
   "metadata": {},
   "outputs": [],
   "source": [
    "ppcp_log_norm.head()"
   ]
  },
  {
   "cell_type": "code",
   "execution_count": null,
   "metadata": {},
   "outputs": [],
   "source": [
    "# Obtenemos las distancias entre los elementos de los diferentes clusters\n",
    "distances_kmeans = clusterClientes.transform(ppcp_log_norm)\n",
    "\n",
    "# Obtenemos el listado de clientes mas cercanos al centroide de cada cluster\n",
    "clientes_representativos = ppcp_log_norm.iloc[[ distances_kmeans[:,i].argmin() for i in range( num_clusters ) ]] \n",
    "clientes_representativos.insert( 0, 'CLUSTER',  range( num_clusters ) )\n",
    "\n",
    "# Mostramos la lista de elementos mas representativos de cada cluster.\n",
    "display(clientes_representativos[['CLUSTER']])"
   ]
  },
  {
   "cell_type": "code",
   "execution_count": null,
   "metadata": {},
   "outputs": [],
   "source": []
  }
 ],
 "metadata": {
  "kernelspec": {
   "display_name": "Python 3",
   "language": "python",
   "name": "python3"
  },
  "language_info": {
   "codemirror_mode": {
    "name": "ipython",
    "version": 3
   },
   "file_extension": ".py",
   "mimetype": "text/x-python",
   "name": "python",
   "nbconvert_exporter": "python",
   "pygments_lexer": "ipython3",
   "version": "3.6.3"
  }
 },
 "nbformat": 4,
 "nbformat_minor": 2
}
